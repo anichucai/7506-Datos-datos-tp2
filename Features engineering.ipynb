{
 "cells": [
  {
   "cell_type": "markdown",
   "metadata": {},
   "source": [
    "# <span style=\"color:#9c8f8f\"> 75.06/95.58 Organización de Datos</span>\n",
    "# <span style=\"color:#9c8f8f\"> Análisis exploratorio: Real or Not? NLP with Disaster Tweets</span>"
   ]
  },
  {
   "cell_type": "markdown",
   "metadata": {},
   "source": [
    "# <center>FEATURE ENGINEERING</center>\n",
    "# <center>Decision trees</center>"
   ]
  },
  {
   "cell_type": "code",
   "execution_count": 1,
   "metadata": {},
   "outputs": [],
   "source": [
    "# Cargo librerias\n",
    "\n",
    "import pandas as pd\n",
    "import numpy as np\n",
    "import matplotlib.pyplot as plt\n",
    "\n",
    "from sklearn import tree"
   ]
  },
  {
   "cell_type": "code",
   "execution_count": 2,
   "metadata": {},
   "outputs": [],
   "source": [
    "# Cargo train and test\n",
    "\n",
    "dtype_train = {\"id\": np.int32, \"keyword\": \"category\", \"target\" : int}\n",
    "train = pd.read_csv(\"original_data/train.csv\", dtype = dtype_train, encoding='UTF_8')"
   ]
  },
  {
   "cell_type": "code",
   "execution_count": 3,
   "metadata": {},
   "outputs": [],
   "source": [
    "# Creo dataframe con target\n",
    "\n",
    "target_train = train[[\"id\",\"target\"]]"
   ]
  },
  {
   "cell_type": "code",
   "execution_count": 4,
   "metadata": {},
   "outputs": [],
   "source": [
    "DIR_CSV = \"features/\""
   ]
  },
  {
   "cell_type": "markdown",
   "metadata": {},
   "source": [
    "# Understanding decision trees"
   ]
  },
  {
   "cell_type": "markdown",
   "metadata": {},
   "source": [
    "* In the decision tree chart, each internal node has a decision rule that splits the data.\n",
    "\n",
    "* Gini referred as Gini ratio, which measures the impurity of the node. You can say a node is pure when all of its records belong to the same class, such nodes known as the leaf node.\n",
    "\n",
    "* There is no need to normalize columns."
   ]
  },
  {
   "cell_type": "markdown",
   "metadata": {},
   "source": [
    "# Auxiliar Functions"
   ]
  },
  {
   "cell_type": "code",
   "execution_count": 5,
   "metadata": {},
   "outputs": [],
   "source": [
    "def decision_tree_feature_search(X,y,m):\n",
    "    \n",
    "    # Model creation\n",
    "    \n",
    "    clf = tree.DecisionTreeClassifier()\n",
    "    clf = clf.fit(X, y)\n",
    "    \n",
    "    # Feature importance\n",
    "\n",
    "    feature_importances = clf.feature_importances_\n",
    "\n",
    "    # get index of m most important features sorted\n",
    "\n",
    "    m_index = np.argpartition(feature_importances, -m)[-m:]\n",
    "    m_index = m_index[np.argsort(feature_importances[m_index])][::-1]\n",
    "    \n",
    "    # Get the m most important features of locations\n",
    "\n",
    "    m_feature_importances = feature_importances[m_index]\n",
    "    \n",
    "    # Get m feature name\n",
    "    \n",
    "    m_feature_name = X.columns[m_index]\n",
    "    \n",
    "    return feature_importances, m_index, m_feature_importances, m_feature_name"
   ]
  },
  {
   "cell_type": "code",
   "execution_count": 6,
   "metadata": {},
   "outputs": [],
   "source": [
    "def plot_decision_tree(X,y,depth):\n",
    "    \n",
    "    clf = tree.DecisionTreeClassifier(max_depth=depth)\n",
    "    clf= clf.fit(X, y)\n",
    "\n",
    "    plt.figure(1, figsize=(10,10))\n",
    "    tree.plot_tree(clf, filled=True)\n",
    "    \n",
    "    plt.show()"
   ]
  },
  {
   "cell_type": "code",
   "execution_count": 7,
   "metadata": {},
   "outputs": [],
   "source": [
    "def print_feature_search(feature, importance):\n",
    "    print(\"{: >20} {: >20}\\n\".format(\"feature\",\"importance\"))\n",
    "    for i in range(len(feature)):\n",
    "        print(\"{: >20}\\t\\t{: >20}\".format(feature[i],importance[i]))"
   ]
  },
  {
   "cell_type": "markdown",
   "metadata": {},
   "source": [
    "# Desition trees"
   ]
  },
  {
   "cell_type": "markdown",
   "metadata": {},
   "source": [
    "## 1. Keywords"
   ]
  },
  {
   "cell_type": "markdown",
   "metadata": {},
   "source": [
    "## 2. Text "
   ]
  },
  {
   "cell_type": "markdown",
   "metadata": {},
   "source": [
    "## 3. Locations"
   ]
  },
  {
   "cell_type": "markdown",
   "metadata": {},
   "source": [
    "### 3.1 features_location_bow"
   ]
  },
  {
   "cell_type": "code",
   "execution_count": 8,
   "metadata": {
    "scrolled": true
   },
   "outputs": [
    {
     "data": {
      "text/html": [
       "<div>\n",
       "<style scoped>\n",
       "    .dataframe tbody tr th:only-of-type {\n",
       "        vertical-align: middle;\n",
       "    }\n",
       "\n",
       "    .dataframe tbody tr th {\n",
       "        vertical-align: top;\n",
       "    }\n",
       "\n",
       "    .dataframe thead th {\n",
       "        text-align: right;\n",
       "    }\n",
       "</style>\n",
       "<table border=\"1\" class=\"dataframe\">\n",
       "  <thead>\n",
       "    <tr style=\"text-align: right;\">\n",
       "      <th></th>\n",
       "      <th>Unnamed: 0</th>\n",
       "      <th>index</th>\n",
       "      <th>ae</th>\n",
       "      <th>af</th>\n",
       "      <th>aq</th>\n",
       "      <th>ar</th>\n",
       "      <th>at</th>\n",
       "      <th>au</th>\n",
       "      <th>bb</th>\n",
       "      <th>bd</th>\n",
       "      <th>...</th>\n",
       "      <th>th</th>\n",
       "      <th>tm</th>\n",
       "      <th>ua</th>\n",
       "      <th>ug</th>\n",
       "      <th>us</th>\n",
       "      <th>uy</th>\n",
       "      <th>ve</th>\n",
       "      <th>vn</th>\n",
       "      <th>za</th>\n",
       "      <th>zw</th>\n",
       "    </tr>\n",
       "  </thead>\n",
       "  <tbody>\n",
       "    <tr>\n",
       "      <th>0</th>\n",
       "      <td>0</td>\n",
       "      <td>0</td>\n",
       "      <td>0</td>\n",
       "      <td>0</td>\n",
       "      <td>0</td>\n",
       "      <td>0</td>\n",
       "      <td>0</td>\n",
       "      <td>0</td>\n",
       "      <td>0</td>\n",
       "      <td>0</td>\n",
       "      <td>...</td>\n",
       "      <td>0</td>\n",
       "      <td>0</td>\n",
       "      <td>0</td>\n",
       "      <td>0</td>\n",
       "      <td>0</td>\n",
       "      <td>0</td>\n",
       "      <td>0</td>\n",
       "      <td>0</td>\n",
       "      <td>0</td>\n",
       "      <td>0</td>\n",
       "    </tr>\n",
       "  </tbody>\n",
       "</table>\n",
       "<p>1 rows × 104 columns</p>\n",
       "</div>"
      ],
      "text/plain": [
       "   Unnamed: 0  index  ae  af  aq  ar  at  au  bb  bd  ...  th  tm  ua  ug  us  \\\n",
       "0           0      0   0   0   0   0   0   0   0   0  ...   0   0   0   0   0   \n",
       "\n",
       "   uy  ve  vn  za  zw  \n",
       "0   0   0   0   0   0  \n",
       "\n",
       "[1 rows x 104 columns]"
      ]
     },
     "metadata": {},
     "output_type": "display_data"
    }
   ],
   "source": [
    "# cargo archivo\n",
    "\n",
    "df_location_bow = pd.read_csv(DIR_CSV + 'train/features_location_bow.csv', low_memory=False)\n",
    "display(df_location_bow.head(1))"
   ]
  },
  {
   "cell_type": "code",
   "execution_count": 9,
   "metadata": {},
   "outputs": [],
   "source": [
    "# relaciono target con df segun id\n",
    "target_train.columns = [\"index\", \"target\"]\n",
    "df_location_bow = df_location_bow.merge(target_train, how=\"inner\", on=\"index\")\n",
    "target_train.columns = [\"id\", \"target\"]"
   ]
  },
  {
   "cell_type": "code",
   "execution_count": 10,
   "metadata": {},
   "outputs": [],
   "source": [
    "X = df_location_bow.loc[:,\"ae\":\"zw\"]\n",
    "y = df_location_bow[\"target\"]"
   ]
  },
  {
   "cell_type": "code",
   "execution_count": 11,
   "metadata": {},
   "outputs": [],
   "source": [
    "# Aplico desition tree\n",
    "\n",
    "feature_importances_location_bow, m_index_location_bow, m_feature_importances_location_bow, m_feature_name_location_bow= decision_tree_feature_search(X,y,10)"
   ]
  },
  {
   "cell_type": "code",
   "execution_count": 12,
   "metadata": {},
   "outputs": [
    {
     "name": "stdout",
     "output_type": "stream",
     "text": [
      "             feature           importance\n",
      "\n",
      "                  in\t\t 0.10522299225409869\n",
      "                  ie\t\t 0.05680813954958134\n",
      "                  de\t\t0.040841763722602356\n",
      "                  it\t\t0.031441579267973946\n",
      "                  pt\t\t0.028441408950222496\n",
      "                  ph\t\t 0.02705948633260172\n",
      "                  be\t\t0.026710811645944566\n",
      "                  kr\t\t 0.02669027276733679\n",
      "                  vn\t\t 0.02666975756920596\n",
      "                  ke\t\t 0.02511720166680615\n"
     ]
    }
   ],
   "source": [
    "# Imprimo informacion\n",
    "\n",
    "print_feature_search(m_feature_name_location_bow, m_feature_importances_location_bow)"
   ]
  },
  {
   "cell_type": "markdown",
   "metadata": {},
   "source": [
    "### 3.2 features_location_tf_idf"
   ]
  },
  {
   "cell_type": "code",
   "execution_count": 13,
   "metadata": {},
   "outputs": [
    {
     "data": {
      "text/html": [
       "<div>\n",
       "<style scoped>\n",
       "    .dataframe tbody tr th:only-of-type {\n",
       "        vertical-align: middle;\n",
       "    }\n",
       "\n",
       "    .dataframe tbody tr th {\n",
       "        vertical-align: top;\n",
       "    }\n",
       "\n",
       "    .dataframe thead th {\n",
       "        text-align: right;\n",
       "    }\n",
       "</style>\n",
       "<table border=\"1\" class=\"dataframe\">\n",
       "  <thead>\n",
       "    <tr style=\"text-align: right;\">\n",
       "      <th></th>\n",
       "      <th>Unnamed: 0</th>\n",
       "      <th>index</th>\n",
       "      <th>ae</th>\n",
       "      <th>af</th>\n",
       "      <th>aq</th>\n",
       "      <th>ar</th>\n",
       "      <th>au</th>\n",
       "      <th>bb</th>\n",
       "      <th>bd</th>\n",
       "      <th>bg</th>\n",
       "      <th>...</th>\n",
       "      <th>sy</th>\n",
       "      <th>th</th>\n",
       "      <th>tm</th>\n",
       "      <th>ua</th>\n",
       "      <th>ug</th>\n",
       "      <th>uy</th>\n",
       "      <th>ve</th>\n",
       "      <th>vn</th>\n",
       "      <th>za</th>\n",
       "      <th>zw</th>\n",
       "    </tr>\n",
       "  </thead>\n",
       "  <tbody>\n",
       "    <tr>\n",
       "      <th>0</th>\n",
       "      <td>0</td>\n",
       "      <td>0</td>\n",
       "      <td>0.0</td>\n",
       "      <td>0.0</td>\n",
       "      <td>0.0</td>\n",
       "      <td>0.0</td>\n",
       "      <td>0.0</td>\n",
       "      <td>0.0</td>\n",
       "      <td>0.0</td>\n",
       "      <td>0.0</td>\n",
       "      <td>...</td>\n",
       "      <td>0.0</td>\n",
       "      <td>0.0</td>\n",
       "      <td>0.0</td>\n",
       "      <td>0.0</td>\n",
       "      <td>0.0</td>\n",
       "      <td>0.0</td>\n",
       "      <td>0.0</td>\n",
       "      <td>0.0</td>\n",
       "      <td>0.0</td>\n",
       "      <td>0.0</td>\n",
       "    </tr>\n",
       "  </tbody>\n",
       "</table>\n",
       "<p>1 rows × 91 columns</p>\n",
       "</div>"
      ],
      "text/plain": [
       "   Unnamed: 0  index   ae   af   aq   ar   au   bb   bd   bg  ...   sy   th  \\\n",
       "0           0      0  0.0  0.0  0.0  0.0  0.0  0.0  0.0  0.0  ...  0.0  0.0   \n",
       "\n",
       "    tm   ua   ug   uy   ve   vn   za   zw  \n",
       "0  0.0  0.0  0.0  0.0  0.0  0.0  0.0  0.0  \n",
       "\n",
       "[1 rows x 91 columns]"
      ]
     },
     "metadata": {},
     "output_type": "display_data"
    }
   ],
   "source": [
    "# cargo archivo\n",
    "\n",
    "df_location_tf_idf = pd.read_csv(DIR_CSV + 'train/features_location_tf_idf.csv', low_memory=False)\n",
    "display(df_location_tf_idf.head(1))"
   ]
  },
  {
   "cell_type": "code",
   "execution_count": 14,
   "metadata": {},
   "outputs": [],
   "source": [
    "# relaciono target con df segun id\n",
    "\n",
    "target_train.columns = [\"index\", \"target\"]\n",
    "df_location_tf_idf = df_location_tf_idf.merge(target_train, how=\"inner\", on=\"index\")\n",
    "target_train.columns = [\"id\", \"target\"]"
   ]
  },
  {
   "cell_type": "code",
   "execution_count": 15,
   "metadata": {},
   "outputs": [],
   "source": [
    "# Separo mi data\n",
    "\n",
    "X = df_location_tf_idf.loc[:,\"ae\":\"zw\"]\n",
    "y = df_location_tf_idf[\"target\"]"
   ]
  },
  {
   "cell_type": "code",
   "execution_count": 16,
   "metadata": {},
   "outputs": [],
   "source": [
    "# Aplico desition tree\n",
    "\n",
    "feature_importances_location_tf_idf, m_index_location_tf_idf, m_feature_importances_location_tf_idf, m_feature_name_location_tf_idf = decision_tree_feature_search(X,y,10)"
   ]
  },
  {
   "cell_type": "code",
   "execution_count": 17,
   "metadata": {},
   "outputs": [
    {
     "name": "stdout",
     "output_type": "stream",
     "text": [
      "             feature           importance\n",
      "\n",
      "                  ph\t\t 0.04778698660746674\n",
      "                  pt\t\t0.042575290368288894\n",
      "                  vn\t\t 0.03939884576621379\n",
      "                  kr\t\t0.039369177960667405\n",
      "                  ke\t\t0.036450505928962304\n",
      "                  pk\t\t0.035618191827850164\n",
      "                  ne\t\t  0.0336466235311834\n",
      "                  gh\t\t  0.0319556673084336\n",
      "                  ro\t\t 0.03033068223549692\n",
      "                  br\t\t0.029780270031984447\n"
     ]
    }
   ],
   "source": [
    "# Imprimo informacion\n",
    "\n",
    "print_feature_search(m_feature_name_location_tf_idf, m_feature_importances_location_tf_idf)"
   ]
  },
  {
   "cell_type": "code",
   "execution_count": 18,
   "metadata": {},
   "outputs": [
    {
     "data": {
      "text/plain": [
       "['pt', 'ph', 'kr', 'vn', 'ke']"
      ]
     },
     "execution_count": 18,
     "metadata": {},
     "output_type": "execute_result"
    }
   ],
   "source": [
    "# locations in common location_bow and location_tf_idf m most important features\n",
    "\n",
    "location_in_common = []\n",
    "for e in m_feature_name_location_bow:\n",
    "    if e in m_feature_name_location_tf_idf:\n",
    "        location_in_common.append(e)\n",
    "        \n",
    "location_in_common"
   ]
  },
  {
   "cell_type": "markdown",
   "metadata": {},
   "source": [
    "### 3.3 features_location_numerical"
   ]
  },
  {
   "cell_type": "code",
   "execution_count": 19,
   "metadata": {},
   "outputs": [
    {
     "data": {
      "text/html": [
       "<div>\n",
       "<style scoped>\n",
       "    .dataframe tbody tr th:only-of-type {\n",
       "        vertical-align: middle;\n",
       "    }\n",
       "\n",
       "    .dataframe tbody tr th {\n",
       "        vertical-align: top;\n",
       "    }\n",
       "\n",
       "    .dataframe thead th {\n",
       "        text-align: right;\n",
       "    }\n",
       "</style>\n",
       "<table border=\"1\" class=\"dataframe\">\n",
       "  <thead>\n",
       "    <tr style=\"text-align: right;\">\n",
       "      <th></th>\n",
       "      <th>Unnamed: 0</th>\n",
       "      <th>id</th>\n",
       "      <th>target</th>\n",
       "      <th>has_country</th>\n",
       "      <th>has_city</th>\n",
       "      <th>has_county</th>\n",
       "      <th>has_state</th>\n",
       "      <th>has_continent</th>\n",
       "    </tr>\n",
       "  </thead>\n",
       "  <tbody>\n",
       "    <tr>\n",
       "      <th>0</th>\n",
       "      <td>0</td>\n",
       "      <td>1</td>\n",
       "      <td>1</td>\n",
       "      <td>0</td>\n",
       "      <td>0</td>\n",
       "      <td>0</td>\n",
       "      <td>0</td>\n",
       "      <td>0</td>\n",
       "    </tr>\n",
       "  </tbody>\n",
       "</table>\n",
       "</div>"
      ],
      "text/plain": [
       "   Unnamed: 0  id  target  has_country  has_city  has_county  has_state  \\\n",
       "0           0   1       1            0         0           0          0   \n",
       "\n",
       "   has_continent  \n",
       "0              0  "
      ]
     },
     "metadata": {},
     "output_type": "display_data"
    }
   ],
   "source": [
    "# cargo archivo\n",
    "\n",
    "df_location_numerical = pd.read_csv(DIR_CSV + 'train/features_location_numerical.csv', low_memory=False)\n",
    "display(df_location_numerical.head(1))"
   ]
  },
  {
   "cell_type": "code",
   "execution_count": 20,
   "metadata": {},
   "outputs": [],
   "source": [
    "# Separo mi data\n",
    "\n",
    "X = df_location_numerical.loc[:,\"has_country\":\"has_continent\"]\n",
    "y = df_location_numerical[\"target\"]"
   ]
  },
  {
   "cell_type": "code",
   "execution_count": 21,
   "metadata": {},
   "outputs": [],
   "source": [
    "# Aplico desition tree\n",
    "\n",
    "feature_importances_location_numerical, m_index_location_numerical, m_feature_importances_location_numerical, m_feature_name_location_numerical = decision_tree_feature_search(X,y,5)"
   ]
  },
  {
   "cell_type": "code",
   "execution_count": 22,
   "metadata": {},
   "outputs": [
    {
     "name": "stdout",
     "output_type": "stream",
     "text": [
      "             feature           importance\n",
      "\n",
      "       has_continent\t\t  0.4201219975712411\n",
      "            has_city\t\t  0.3638730453189099\n",
      "          has_county\t\t 0.09863419218254829\n",
      "           has_state\t\t 0.08259389943509134\n",
      "         has_country\t\t 0.03477686549220937\n"
     ]
    }
   ],
   "source": [
    "# Imprimo informacion\n",
    "\n",
    "print_feature_search(m_feature_name_location_numerical, m_feature_importances_location_numerical)"
   ]
  },
  {
   "cell_type": "code",
   "execution_count": 23,
   "metadata": {},
   "outputs": [
    {
     "data": {
      "image/png": "[encoded data removed]",
      "text/plain": [
       "<Figure size 720x720 with 1 Axes>"
      ]
     },
     "metadata": {
      "needs_background": "light"
     },
     "output_type": "display_data"
    }
   ],
   "source": [
    "plot_decision_tree(X,y,5)"
   ]
  },
  {
   "cell_type": "markdown",
   "metadata": {},
   "source": [
    "### 3.4 features_location_in_text_numerical"
   ]
  },
  {
   "cell_type": "code",
   "execution_count": 24,
   "metadata": {
    "scrolled": true
   },
   "outputs": [
    {
     "data": {
      "text/html": [
       "<div>\n",
       "<style scoped>\n",
       "    .dataframe tbody tr th:only-of-type {\n",
       "        vertical-align: middle;\n",
       "    }\n",
       "\n",
       "    .dataframe tbody tr th {\n",
       "        vertical-align: top;\n",
       "    }\n",
       "\n",
       "    .dataframe thead th {\n",
       "        text-align: right;\n",
       "    }\n",
       "</style>\n",
       "<table border=\"1\" class=\"dataframe\">\n",
       "  <thead>\n",
       "    <tr style=\"text-align: right;\">\n",
       "      <th></th>\n",
       "      <th>Unnamed: 0</th>\n",
       "      <th>id</th>\n",
       "      <th>target</th>\n",
       "      <th>has_country</th>\n",
       "      <th>has_city</th>\n",
       "      <th>has_county</th>\n",
       "      <th>has_state</th>\n",
       "      <th>has_continent</th>\n",
       "    </tr>\n",
       "  </thead>\n",
       "  <tbody>\n",
       "    <tr>\n",
       "      <th>0</th>\n",
       "      <td>0</td>\n",
       "      <td>1</td>\n",
       "      <td>NaN</td>\n",
       "      <td>0</td>\n",
       "      <td>0</td>\n",
       "      <td>0</td>\n",
       "      <td>0</td>\n",
       "      <td>0</td>\n",
       "    </tr>\n",
       "    <tr>\n",
       "      <th>1</th>\n",
       "      <td>1</td>\n",
       "      <td>4</td>\n",
       "      <td>NaN</td>\n",
       "      <td>1</td>\n",
       "      <td>0</td>\n",
       "      <td>0</td>\n",
       "      <td>0</td>\n",
       "      <td>1</td>\n",
       "    </tr>\n",
       "  </tbody>\n",
       "</table>\n",
       "</div>"
      ],
      "text/plain": [
       "   Unnamed: 0  id  target  has_country  has_city  has_county  has_state  \\\n",
       "0           0   1     NaN            0         0           0          0   \n",
       "1           1   4     NaN            1         0           0          0   \n",
       "\n",
       "   has_continent  \n",
       "0              0  \n",
       "1              1  "
      ]
     },
     "metadata": {},
     "output_type": "display_data"
    }
   ],
   "source": [
    "# cargo archivo\n",
    "\n",
    "df_location_in_text_numerical = pd.read_csv(DIR_CSV + 'train/features_location_in_text_numerical.csv', low_memory=False)\n",
    "display(df_location_in_text_numerical.head(2))"
   ]
  },
  {
   "cell_type": "code",
   "execution_count": 25,
   "metadata": {},
   "outputs": [],
   "source": [
    "# Agrego target mal guardado en csv\n",
    "\n",
    "del df_location_in_text_numerical[\"target\"]\n",
    "df_location_in_text_numerical = df_location_in_text_numerical.merge(target_train, how=\"inner\", on=\"id\")"
   ]
  },
  {
   "cell_type": "code",
   "execution_count": 26,
   "metadata": {},
   "outputs": [],
   "source": [
    "# Separo mi data\n",
    "\n",
    "X = df_location_in_text_numerical.loc[:,\"has_country\":\"has_continent\"]\n",
    "y = df_location_in_text_numerical[\"target\"]"
   ]
  },
  {
   "cell_type": "code",
   "execution_count": 27,
   "metadata": {},
   "outputs": [],
   "source": [
    "# Aplico desition tree\n",
    "\n",
    "feature_importances_location_in_text_numerical, m_index_location_in_text_numerical, m_feature_importances_location_numerical, m_feature_name_location_in_text_numerical = decision_tree_feature_search(X,y,5)"
   ]
  },
  {
   "cell_type": "code",
   "execution_count": 28,
   "metadata": {},
   "outputs": [
    {
     "name": "stdout",
     "output_type": "stream",
     "text": [
      "             feature           importance\n",
      "\n",
      "       has_continent\t\t  0.9667359633952927\n",
      "            has_city\t\t0.019875124620939873\n",
      "           has_state\t\t0.010282301066125318\n",
      "         has_country\t\t0.0028974921773544946\n",
      "          has_county\t\t0.00020911874028769554\n"
     ]
    }
   ],
   "source": [
    "# Imprimo informacion\n",
    "\n",
    "print_feature_search(m_feature_name_location_in_text_numerical, m_feature_importances_location_numerical)"
   ]
  },
  {
   "cell_type": "code",
   "execution_count": 29,
   "metadata": {},
   "outputs": [
    {
     "data": {
      "image/png": "[encoded data removed]",
      "text/plain": [
       "<Figure size 720x720 with 1 Axes>"
      ]
     },
     "metadata": {
      "needs_background": "light"
     },
     "output_type": "display_data"
    }
   ],
   "source": [
    "plot_decision_tree(X,y,5)"
   ]
  }
 ],
 "metadata": {
  "kernelspec": {
   "display_name": "Python 3",
   "language": "python",
   "name": "python3"
  },
  "language_info": {
   "codemirror_mode": {
    "name": "ipython",
    "version": 3
   },
   "file_extension": ".py",
   "mimetype": "text/x-python",
   "name": "python",
   "nbconvert_exporter": "python",
   "pygments_lexer": "ipython3",
   "version": "3.6.10"
  }
 },
 "nbformat": 4,
 "nbformat_minor": 2
}
