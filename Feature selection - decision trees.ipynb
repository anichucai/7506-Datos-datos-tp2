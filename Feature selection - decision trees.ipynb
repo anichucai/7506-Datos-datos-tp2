{
 "cells": [
  {
   "cell_type": "markdown",
   "metadata": {},
   "source": [
    "# <span style=\"color:#9c8f8f\"> 75.06/95.58 Organización de Datos</span>\n",
    "# <span style=\"color:#9c8f8f\"> Análisis exploratorio: Real or Not? NLP with Disaster Tweets</span>"
   ]
  },
  {
   "cell_type": "markdown",
   "metadata": {},
   "source": [
    "# <center>FEATURE ENGINEERING</center>\n",
    "# <center>Decision trees</center>"
   ]
  },
  {
   "cell_type": "code",
   "execution_count": 1,
   "metadata": {},
   "outputs": [],
   "source": [
    "# Cargo librerias\n",
    "\n",
    "import pandas as pd\n",
    "import numpy as np\n",
    "import matplotlib.pyplot as plt\n",
    "\n",
    "from sklearn import tree"
   ]
  },
  {
   "cell_type": "code",
   "execution_count": 2,
   "metadata": {},
   "outputs": [],
   "source": [
    "# Cargo train and test\n",
    "\n",
    "dtype_train = {\"id\": np.int32, \"keyword\": \"category\", \"target\" : int}\n",
    "train = pd.read_csv(\"original_data/train.csv\", dtype = dtype_train, encoding='UTF_8')"
   ]
  },
  {
   "cell_type": "code",
   "execution_count": 3,
   "metadata": {},
   "outputs": [],
   "source": [
    "# Creo dataframe con target\n",
    "\n",
    "target_train = train[[\"id\",\"target\"]]"
   ]
  },
  {
   "cell_type": "code",
   "execution_count": 4,
   "metadata": {},
   "outputs": [],
   "source": [
    "DIR_CSV = \"features/\""
   ]
  },
  {
   "cell_type": "markdown",
   "metadata": {},
   "source": [
    "# I) Understanding decision trees"
   ]
  },
  {
   "cell_type": "markdown",
   "metadata": {},
   "source": [
    "* In the decision tree chart, each internal node has a decision rule that splits the data.\n",
    "\n",
    "* Gini referred as Gini ratio, which measures the impurity of the node. You can say a node is pure when all of its records belong to the same class, such nodes known as the leaf node.\n",
    "\n",
    "* There is no need to normalize columns."
   ]
  },
  {
   "cell_type": "markdown",
   "metadata": {},
   "source": [
    "# II) Auxiliary Functions"
   ]
  },
  {
   "cell_type": "code",
   "execution_count": 5,
   "metadata": {},
   "outputs": [],
   "source": [
    "def decision_tree_feature_search(X,y,m):\n",
    "    \n",
    "    # Model creation\n",
    "    \n",
    "    clf = tree.DecisionTreeClassifier()\n",
    "    clf = clf.fit(X, y)\n",
    "    \n",
    "    # Feature importance\n",
    "\n",
    "    feature_importances = clf.feature_importances_\n",
    "\n",
    "    # get index of m most important features sorted\n",
    "\n",
    "    m_index = np.argpartition(feature_importances, -m)[-m:]\n",
    "    m_index = m_index[np.argsort(feature_importances[m_index])][::-1]\n",
    "    \n",
    "    # Get the m most important features of locations\n",
    "\n",
    "    m_feature_importances = feature_importances[m_index]\n",
    "    \n",
    "    # Get m feature name\n",
    "    \n",
    "    m_feature_name = X.columns[m_index]\n",
    "    \n",
    "    return feature_importances, m_index, m_feature_importances, m_feature_name"
   ]
  },
  {
   "cell_type": "code",
   "execution_count": 6,
   "metadata": {},
   "outputs": [],
   "source": [
    "# m cantidad de features con más relevancia\n",
    "\n",
    "def decision_trees_files(previous_dir, files, m_value, pos=[2,-2]):\n",
    "    \n",
    "    # contiene una lista por archivo con feature_importances, m_index, m_feature_importances, m_feature_name\n",
    "    locations_others_info = []\n",
    "    \n",
    "\n",
    "    for i in range(len(files)):\n",
    "        \n",
    "        # cargo archivo\n",
    "\n",
    "        df = pd.read_csv(previous_dir + files[i], low_memory=False)\n",
    "        cols = df.columns\n",
    "\n",
    "        # Agrego target mal guardado en csv\n",
    "        \n",
    "        if(\"target\" not in df.columns):\n",
    "            df = df.merge(target_train, how=\"inner\", on=\"id\")    \n",
    "        \n",
    "        # verifico pos\n",
    "        pos_inicio = pos[0]\n",
    "        pos_final = pos[1]\n",
    "        if pos_final==None:\n",
    "            pos_final = len(cols)-1\n",
    "        \n",
    "        # Separo mi data\n",
    "        X = df.loc[:,cols[pos_inicio]:cols[pos_final]].fillna(0)\n",
    "        y = df[\"target\"]\n",
    "        \n",
    "        m = m_value\n",
    "        # Verifico m\n",
    "        if m >= len(X.columns):\n",
    "            m = len(X.columns)\n",
    "\n",
    "        # Aplico desition tree\n",
    "\n",
    "        feature_importances, m_index, m_feature_importances, m_feature_name = decision_tree_feature_search(X,y,m)\n",
    "        locations_others_info.append([feature_importances, m_index, m_feature_importances, m_feature_name])\n",
    "\n",
    "        # Imprimo informacion\n",
    "        print_feature_search(m_feature_name, m_feature_importances, files[i])\n",
    "        print(\"\\n\\n\")\n",
    "    \n",
    "    \n",
    "    return locations_others_info"
   ]
  },
  {
   "cell_type": "code",
   "execution_count": 7,
   "metadata": {},
   "outputs": [],
   "source": [
    "def plot_decision_tree(X,y,depth):\n",
    "    \n",
    "    clf = tree.DecisionTreeClassifier(max_depth=depth)\n",
    "    clf= clf.fit(X, y)\n",
    "\n",
    "    plt.figure(1, figsize=(10,10))\n",
    "    tree.plot_tree(clf, filled=True)\n",
    "    \n",
    "    plt.show()"
   ]
  },
  {
   "cell_type": "code",
   "execution_count": 8,
   "metadata": {},
   "outputs": [],
   "source": [
    "def print_feature_search(feature, importance, file):\n",
    "    \n",
    "    print(\"{}\\n\".format(file.upper()))\n",
    "    print(\"{: >20} {: >20}\\n\".format(\"feature\",\"importance\"))\n",
    "    for i in range(len(feature)):\n",
    "        print(\"{: >20}\\t\\t{: >20}\".format(feature[i],importance[i]))"
   ]
  },
  {
   "cell_type": "markdown",
   "metadata": {},
   "source": [
    "# III) Desition trees"
   ]
  },
  {
   "cell_type": "markdown",
   "metadata": {},
   "source": [
    "## 1. Keywords"
   ]
  },
  {
   "cell_type": "code",
   "execution_count": 9,
   "metadata": {},
   "outputs": [
    {
     "name": "stdout",
     "output_type": "stream",
     "text": [
      "FEATURES_KEYWORDS_IN_TEXT_ENCODED.CSV\n",
      "\n",
      "             feature           importance\n",
      "\n",
      "              K_fire\t\t 0.05661728198438582\n",
      "              K_bomb\t\t0.051991259947314974\n",
      "             K_storm\t\t0.036827459863518916\n",
      "           K_typhoon\t\t0.025896939916620513\n",
      "            K_debris\t\t0.024404951233193972\n",
      "            K_derail\t\t 0.02220832851823863\n",
      "            K_police\t\t0.021374263304411927\n",
      "             K_flood\t\t0.020311834674881086\n",
      "          K_wreckage\t\t 0.02028981280941414\n",
      "          K_outbreak\t\t  0.0200220682567302\n",
      "             K_crash\t\t 0.01954328697733305\n",
      "         K_oil spill\t\t0.018819244115054028\n",
      "           K_rescuer\t\t0.017821643267390518\n",
      "            K_attack\t\t0.017714721283724127\n",
      "        K_earthquake\t\t0.016631669122568034\n",
      "          K_disaster\t\t0.015533660234610613\n",
      "         K_terrorism\t\t0.015390958667775985\n",
      "          K_accident\t\t0.015145603909358245\n",
      "          K_hellfire\t\t 0.01337722978641839\n",
      "       K_mass murder\t\t0.013269934793222967\n",
      "\n",
      "\n",
      "\n",
      "FEATURES_KEYWORDS_NUMERICAL.CSV\n",
      "\n",
      "             feature           importance\n",
      "\n",
      "   keyword_frequency\t\t  0.4436515370898756\n",
      "       keywords_mean\t\t 0.39424262832846396\n",
      "text_contains_keyword\t\t 0.10002959904665125\n",
      "   keywords_quantity\t\t 0.04038281003510707\n",
      "  keyword_is_hashtag\t\t 0.02169342549990212\n",
      "         has_keyword\t\t                 0.0\n",
      "\n",
      "\n",
      "\n"
     ]
    }
   ],
   "source": [
    "files_keywords = [\"features_keywords_in_text_encoded.csv\", \"features_keywords_numerical.csv\"]\n",
    "DT_keywords = decision_trees_files(DIR_CSV + 'train/' ,files_keywords, 20,[3,None])"
   ]
  },
  {
   "cell_type": "markdown",
   "metadata": {},
   "source": [
    "## 2. Text "
   ]
  },
  {
   "cell_type": "code",
   "execution_count": 10,
   "metadata": {},
   "outputs": [],
   "source": [
    "files_text = ['features_tagged.csv',\n",
    "'features_tagged_smooth.csv',\n",
    "'features_hashtags.csv',\n",
    "'features_hashtags_smooth.csv',\n",
    "             ]\n",
    "files_text_numerical=['features_arrobas_numerical.csv',\n",
    "'features_text_numerical.csv',\n",
    "'features_hashtags_numerical.csv']"
   ]
  },
  {
   "cell_type": "code",
   "execution_count": 11,
   "metadata": {},
   "outputs": [
    {
     "name": "stdout",
     "output_type": "stream",
     "text": [
      "FEATURES_ARROBAS_NUMERICAL.CSV\n",
      "\n",
      "             feature           importance\n",
      "\n",
      "       #tagged_users\t\t                 1.0\n",
      "\n",
      "\n",
      "\n",
      "FEATURES_TEXT_NUMERICAL.CSV\n",
      "\n",
      "             feature           importance\n",
      "\n",
      "   promedio_len_word\t\t 0.22388460449114755\n",
      "            #silabas\t\t 0.15826725184797152\n",
      "         #caracteres\t\t 0.12023201256500525\n",
      "         #capitalize\t\t 0.09231945776372578\n",
      "          #stopwords\t\t   0.081622906748255\n",
      "         #mayusculas\t\t 0.06359349316907079\n",
      "    #palabras_unicas\t\t 0.05569103176162734\n",
      "         #puntuacion\t\t 0.04957838617936796\n",
      "#caracteres_especiales\t\t  0.0431635963830134\n",
      "           #palabras\t\t0.034803643747599866\n",
      "   #stopwords_binned\t\t0.013396323810798562\n",
      "     #silabas_binned\t\t0.011776451399292938\n",
      "#palabras_unicas_binned\t\t0.010538727315405633\n",
      "  #capitalize_binned\t\t0.009434100405395562\n",
      "    #palabras_binned\t\t0.009171023443589152\n",
      "#caracteres_especiales_binned\t\t0.008105315962382675\n",
      "  #caracteres_binned\t\t0.007811202113985194\n",
      "  #puntuacion_binned\t\t0.006610470892365958\n",
      "  #mayusculas_binned\t\t                 0.0\n",
      "\n",
      "\n",
      "\n",
      "FEATURES_HASHTAGS_NUMERICAL.CSV\n",
      "\n",
      "             feature           importance\n",
      "\n",
      "         has_hashtag\t\t  0.5945279902591208\n",
      "           #hashtags\t\t  0.4054720097408792\n",
      "\n",
      "\n",
      "\n"
     ]
    }
   ],
   "source": [
    "DT_text_numerical = decision_trees_files(DIR_CSV + 'train/', files_text_numerical, 20, [3,None])"
   ]
  },
  {
   "cell_type": "code",
   "execution_count": 12,
   "metadata": {},
   "outputs": [
    {
     "name": "stdout",
     "output_type": "stream",
     "text": [
      "FEATURES_ARROBAS_NUMERICAL.CSV\n",
      "\n",
      "             feature           importance\n",
      "\n",
      "              target\t\t                 1.0\n",
      "                  id\t\t                 0.0\n",
      "\n",
      "\n",
      "\n",
      "FEATURES_TEXT_NUMERICAL.CSV\n",
      "\n",
      "             feature           importance\n",
      "\n",
      "              target\t\t                 1.0\n",
      "     #silabas_binned\t\t                 0.0\n",
      "  #mayusculas_binned\t\t                 0.0\n",
      "           #palabras\t\t                 0.0\n",
      "    #palabras_unicas\t\t                 0.0\n",
      "         #caracteres\t\t                 0.0\n",
      "          #stopwords\t\t                 0.0\n",
      "         #puntuacion\t\t                 0.0\n",
      "         #capitalize\t\t                 0.0\n",
      "         #mayusculas\t\t                 0.0\n",
      "            #silabas\t\t                 0.0\n",
      "   promedio_len_word\t\t                 0.0\n",
      "#caracteres_especiales\t\t                 0.0\n",
      "    #palabras_binned\t\t                 0.0\n",
      "#palabras_unicas_binned\t\t                 0.0\n",
      "  #caracteres_binned\t\t                 0.0\n",
      "   #stopwords_binned\t\t                 0.0\n",
      "  #puntuacion_binned\t\t                 0.0\n",
      "  #capitalize_binned\t\t                 0.0\n",
      "                  id\t\t                 0.0\n",
      "\n",
      "\n",
      "\n",
      "FEATURES_HASHTAGS_NUMERICAL.CSV\n",
      "\n",
      "             feature           importance\n",
      "\n",
      "              target\t\t                 1.0\n",
      "           #hashtags\t\t                 0.0\n",
      "                  id\t\t                 0.0\n",
      "\n",
      "\n",
      "\n"
     ]
    }
   ],
   "source": [
    "DT_text_numerical = decision_trees_files(DIR_CSV + 'train/', files_text_numerical, 20, [1,-2])"
   ]
  },
  {
   "cell_type": "markdown",
   "metadata": {},
   "source": [
    "## 3. Locations"
   ]
  },
  {
   "cell_type": "markdown",
   "metadata": {},
   "source": [
    "### 3.1 features_location_bow"
   ]
  },
  {
   "cell_type": "code",
   "execution_count": 13,
   "metadata": {},
   "outputs": [
    {
     "name": "stdout",
     "output_type": "stream",
     "text": [
      "FEATURES_LOCATION_BOW.CSV\n",
      "\n",
      "             feature           importance\n",
      "\n",
      "          country_in\t\t 0.11136710508726257\n",
      "          country_de\t\t0.040504034186906804\n",
      "          country_ph\t\t 0.03570658695359261\n",
      "          country_pk\t\t 0.03306242103190922\n",
      "          country_ie\t\t 0.03245270967869037\n",
      "          country_it\t\t0.030874738475332994\n",
      "          country_pt\t\t  0.0281444156736485\n",
      "          country_ne\t\t0.026497982514741905\n",
      "          country_pe\t\t 0.02628551625936288\n",
      "          country_be\t\t 0.02626522248113648\n",
      "\n",
      "\n",
      "\n",
      "FEATURES_LOCATION_TF_IDF.CSV\n",
      "\n",
      "             feature           importance\n",
      "\n",
      "          country_ph\t\t 0.05067904679247152\n",
      "          country_pk\t\t0.049624034678962696\n",
      "          country_pt\t\t 0.04132740981083981\n",
      "          country_kr\t\t 0.03802966740101018\n",
      "          country_pe\t\t 0.03800093323600403\n",
      "          country_vn\t\t 0.03797223162479722\n",
      "          country_ke\t\t 0.03507557140953691\n",
      "          country_gh\t\t0.030826967520841193\n",
      "          country_ro\t\t0.029320630022855815\n",
      "          country_ne\t\t0.028685799105667893\n",
      "\n",
      "\n",
      "\n"
     ]
    }
   ],
   "source": [
    "files_location = ['features_location_bow.csv','features_location_tf_idf.csv']\n",
    "DT_location = decision_trees_files(DIR_CSV + 'train/' , files_location, 10)"
   ]
  },
  {
   "cell_type": "markdown",
   "metadata": {},
   "source": [
    "### 3.2 features_location_numerical"
   ]
  },
  {
   "cell_type": "code",
   "execution_count": 14,
   "metadata": {},
   "outputs": [
    {
     "name": "stdout",
     "output_type": "stream",
     "text": [
      "FEATURES_LOCATION_NUMERICAL.CSV\n",
      "\n",
      "             feature           importance\n",
      "\n",
      "       has_continent\t\t  0.4201219975712411\n",
      "            has_city\t\t  0.3638730453189099\n",
      "          has_county\t\t 0.09863419218254829\n",
      "           has_state\t\t 0.08259389943509134\n",
      "         has_country\t\t 0.03477686549220937\n",
      "\n",
      "\n",
      "\n"
     ]
    }
   ],
   "source": [
    "files_location_numerical = ['features_location_numerical.csv']\n",
    "DT_location_numerical = decision_trees_files(DIR_CSV + 'train/' , files_location_numerical, 10, [3,None])"
   ]
  },
  {
   "cell_type": "markdown",
   "metadata": {},
   "source": [
    "### 3.3 features_location_in_text_numerical"
   ]
  },
  {
   "cell_type": "code",
   "execution_count": 15,
   "metadata": {},
   "outputs": [],
   "source": [
    "files_location_in_text_numerical = ['features_location_in_text_numerical.csv']"
   ]
  },
  {
   "cell_type": "code",
   "execution_count": 16,
   "metadata": {
    "scrolled": true
   },
   "outputs": [
    {
     "data": {
      "text/html": [
       "<div>\n",
       "<style scoped>\n",
       "    .dataframe tbody tr th:only-of-type {\n",
       "        vertical-align: middle;\n",
       "    }\n",
       "\n",
       "    .dataframe tbody tr th {\n",
       "        vertical-align: top;\n",
       "    }\n",
       "\n",
       "    .dataframe thead th {\n",
       "        text-align: right;\n",
       "    }\n",
       "</style>\n",
       "<table border=\"1\" class=\"dataframe\">\n",
       "  <thead>\n",
       "    <tr style=\"text-align: right;\">\n",
       "      <th></th>\n",
       "      <th>Unnamed: 0</th>\n",
       "      <th>id</th>\n",
       "      <th>target</th>\n",
       "      <th>has_country</th>\n",
       "      <th>has_city</th>\n",
       "      <th>has_county</th>\n",
       "      <th>has_state</th>\n",
       "      <th>has_continent</th>\n",
       "    </tr>\n",
       "  </thead>\n",
       "  <tbody>\n",
       "    <tr>\n",
       "      <th>0</th>\n",
       "      <td>0</td>\n",
       "      <td>1</td>\n",
       "      <td>NaN</td>\n",
       "      <td>0</td>\n",
       "      <td>0</td>\n",
       "      <td>0</td>\n",
       "      <td>0</td>\n",
       "      <td>0</td>\n",
       "    </tr>\n",
       "    <tr>\n",
       "      <th>1</th>\n",
       "      <td>1</td>\n",
       "      <td>4</td>\n",
       "      <td>NaN</td>\n",
       "      <td>1</td>\n",
       "      <td>0</td>\n",
       "      <td>0</td>\n",
       "      <td>0</td>\n",
       "      <td>1</td>\n",
       "    </tr>\n",
       "  </tbody>\n",
       "</table>\n",
       "</div>"
      ],
      "text/plain": [
       "   Unnamed: 0  id  target  has_country  has_city  has_county  has_state  \\\n",
       "0           0   1     NaN            0         0           0          0   \n",
       "1           1   4     NaN            1         0           0          0   \n",
       "\n",
       "   has_continent  \n",
       "0              0  \n",
       "1              1  "
      ]
     },
     "metadata": {},
     "output_type": "display_data"
    }
   ],
   "source": [
    "# cargo archivo\n",
    "df_location_in_text_numerical = pd.read_csv(DIR_CSV + 'train/features_location_in_text_numerical.csv', low_memory=False)\n",
    "display(df_location_in_text_numerical.head(2))\n",
    "\n",
    "# Agrego target mal guardado en csv\n",
    "del df_location_in_text_numerical[\"target\"]\n",
    "df_location_in_text_numerical = df_location_in_text_numerical.merge(target_train, how=\"inner\", on=\"id\")\n",
    "\n",
    "# Separo mi data\n",
    "X = df_location_in_text_numerical.loc[:,\"has_country\":\"has_continent\"]\n",
    "y = df_location_in_text_numerical[\"target\"]\n",
    "\n",
    "DT_location_in_text_numerical = [decision_tree_feature_search(X,y,5)]"
   ]
  },
  {
   "cell_type": "code",
   "execution_count": 17,
   "metadata": {},
   "outputs": [
    {
     "name": "stdout",
     "output_type": "stream",
     "text": [
      "FEATURES_LOCATION_IN_TEXT_NUMERICAL.CSV\n",
      "\n",
      "             feature           importance\n",
      "\n",
      "       has_continent\t\t  0.9667359633952927\n",
      "            has_city\t\t0.019875124620939873\n",
      "           has_state\t\t0.010282301066125318\n",
      "         has_country\t\t0.0028974921773544946\n",
      "          has_county\t\t0.00020911874028769554\n"
     ]
    }
   ],
   "source": [
    "# Imprimo informacion\n",
    "print_feature_search(DT_location_in_text_numerical[0][-1], DT_location_in_text_numerical[0][-2], \"features_location_in_text_numerical.csv\")"
   ]
  },
  {
   "cell_type": "code",
   "execution_count": 18,
   "metadata": {
    "scrolled": true
   },
   "outputs": [
    {
     "data": {
      "image/png": "[encoded data removed]",
      "text/plain": [
       "<Figure size 720x720 with 1 Axes>"
      ]
     },
     "metadata": {
      "needs_background": "light"
     },
     "output_type": "display_data"
    }
   ],
   "source": [
    "plot_decision_tree(X,y,5)"
   ]
  },
  {
   "cell_type": "markdown",
   "metadata": {},
   "source": [
    "### 3.5 Country, Continent, City and State"
   ]
  },
  {
   "cell_type": "code",
   "execution_count": 19,
   "metadata": {},
   "outputs": [
    {
     "name": "stdout",
     "output_type": "stream",
     "text": [
      "FEATURES_CITY_ENCODED.CSV\n",
      "\n",
      "             feature           importance\n",
      "\n",
      "         city_Mumbai\t\t0.024162085171152564\n",
      "     city_Washington\t\t 0.02397432806580939\n",
      "           city_York\t\t0.021575072484253176\n",
      "     city_Sacramento\t\t0.012526738820626679\n",
      "        city_Karachi\t\t0.009182439822278687\n",
      "       city_Coventry\t\t0.007731320582748915\n",
      "         city_Oregon\t\t0.007589385620246751\n",
      "        city_Calgary\t\t0.006917070352175422\n",
      "        city_Jakarta\t\t0.006908511618374265\n",
      "         city_Dundee\t\t0.006906504480455745\n",
      "\n",
      "\n",
      "\n",
      "FEATURES_CITY_IN_TEXT_ENCODED.CSV\n",
      "\n",
      "             feature           importance\n",
      "\n",
      "         city_Saipan\t\t 0.12189315994478064\n",
      "         city_Police\t\t0.022515825307493405\n",
      "         city_Kaduna\t\t 0.02133331501239071\n",
      "         city_Mumbai\t\t 0.02131079964034921\n",
      "        city_Antioch\t\t0.016027483511858478\n",
      "       city_Udhampur\t\t 0.01601478344568503\n",
      "           city_Nice\t\t0.014774834425545929\n",
      "  city_Silver Spring\t\t 0.01132735474536293\n",
      "        city_Buffalo\t\t0.010770440167579255\n",
      "      city_Palestine\t\t0.010764718818210348\n",
      "\n",
      "\n",
      "\n",
      "FEATURES_COUNTRY_ENCODED.CSV\n",
      "\n",
      "             feature           importance\n",
      "\n",
      "          country_NG\t\t 0.11928043711996893\n",
      "          country_IN\t\t  0.1145100094714094\n",
      "          country_PK\t\t  0.0433290073770117\n",
      "          country_AU\t\t  0.0383438003273161\n",
      "          country_IQ\t\t0.035555235034331396\n",
      "          country_BR\t\t0.025802228122388755\n",
      "          country_GR\t\t 0.02529989571669301\n",
      "          country_DM\t\t0.025272234220755675\n",
      "          country_ID\t\t0.024891708299469236\n",
      "          country_CA\t\t 0.01980557214192829\n",
      "\n",
      "\n",
      "\n",
      "FEATURES_COUNTRY_IN_TEXT_ENCODED.CSV\n",
      "\n",
      "             feature           importance\n",
      "\n",
      "          country_JP\t\t 0.10223828027961407\n",
      "          country_MY\t\t  0.0985386173792985\n",
      "          country_IN\t\t 0.05701953952268615\n",
      "          country_IL\t\t0.056422125325436084\n",
      "          country_PK\t\t 0.05314455816339827\n",
      "          country_TR\t\t 0.05187908955866492\n",
      "          country_MP\t\t 0.04674914132627472\n",
      "          country_MM\t\t 0.03269517095381414\n",
      "          country_US\t\t0.027914137066355788\n",
      "          country_LY\t\t0.026950533892672178\n",
      "\n",
      "\n",
      "\n",
      "FEATURES_COUNTY_ENCODED.CSV\n",
      "\n",
      "             feature           importance\n",
      "\n",
      "county_Hanover County\t\t  0.1502118715435177\n",
      "county_Orange County\t\t  0.0779573194496499\n",
      "county_Palm Beach County\t\t 0.07532345257713184\n",
      "county_Shelby County\t\t 0.07530362800742933\n",
      "  county_Carson City\t\t 0.07528381126318909\n",
      "county_Sevier County\t\t 0.07526400234036974\n",
      "county_Rockland County\t\t 0.07524420123477257\n",
      "county_Hamilton County\t\t 0.07522440794240873\n",
      "county_Bartholomew County\t\t 0.07520462245881701\n",
      "county_Charlotte County\t\t 0.07518484478042844\n",
      "\n",
      "\n",
      "\n",
      "FEATURES_COUNTY_IN_TEXT_ENCODED.CSV\n",
      "\n",
      "             feature           importance\n",
      "\n",
      "county_Lowndes County\t\t 0.19705873230924964\n",
      "county_Oklahoma County\t\t 0.09864598428924648\n",
      " county_Marin County\t\t 0.06584187931749977\n",
      "county_Shelby County\t\t 0.06580724392597712\n",
      "county_Harris County\t\t0.033046902403237405\n",
      "county_Davidson County\t\t0.033038192096810234\n",
      "county_Halifax County\t\t 0.03302948523375432\n",
      " county_Logan County\t\t 0.03302078181205103\n",
      "  county_Kern County\t\t 0.03301208183002581\n",
      "  county_Lake County\t\t0.033003385285774726\n",
      "\n",
      "\n",
      "\n",
      "FEATURES_STATE_ENCODED.CSV\n",
      "\n",
      "             feature           importance\n",
      "\n",
      "    state_Washington\t\t 0.13309628240494348\n",
      "      state_Arkansas\t\t 0.05102522143521487\n",
      "            state_FL\t\t0.050943852311339695\n",
      "          state_Iowa\t\t   0.050862677669494\n",
      "        state_Hawaii\t\t0.050769157275686774\n",
      "        state_Oregon\t\t0.048501937975669485\n",
      "          state_Utah\t\t 0.04678223506510785\n",
      "  state_Pennsylvania\t\t 0.03880262360965235\n",
      "            state_VA\t\t0.037943486371242556\n",
      "         state_Maine\t\t 0.03387997113243321\n",
      "\n",
      "\n",
      "\n",
      "FEATURES_STATE_IN_TEXT_ENCODED.CSV\n",
      "\n",
      "             feature           importance\n",
      "\n",
      "    state_California\t\t  0.4974261370128324\n",
      "        state_Hawaii\t\t 0.05727093821794391\n",
      "       state_Alabama\t\t 0.05621073847855266\n",
      "      state_Oklahoma\t\t  0.0512593920791355\n",
      "            state_AL\t\t0.036764050985416845\n",
      "    state_Washington\t\t 0.03420383999104039\n",
      "      state_Maryland\t\t0.026372067432837074\n",
      "            state_NC\t\t0.021168787109434303\n",
      "       state_Georgia\t\t0.021145985130590347\n",
      "            state_CA\t\t 0.02112321997367877\n",
      "\n",
      "\n",
      "\n",
      "FEATURES_CONTINENT_ENCODED.CSV\n",
      "\n",
      "             feature           importance\n",
      "\n",
      "        continent_AS\t\t  0.5212707912188062\n",
      "        continent_AF\t\t 0.17933151849527487\n",
      "        continent_NA\t\t 0.10806926460083655\n",
      "        continent_OC\t\t 0.10574006388800804\n",
      "        continent_EU\t\t 0.05029675025096789\n",
      "        continent_AN\t\t 0.03529161154610664\n",
      "\n",
      "\n",
      "\n",
      "FEATURES_CONTINENT_IN_TEXT_ENCODED.CSV\n",
      "\n",
      "             feature           importance\n",
      "\n",
      "        continent_AS\t\t  0.4582972181492558\n",
      "        continent_NA\t\t  0.3763670766794078\n",
      "        continent_AF\t\t 0.07258912920063851\n",
      "        continent_EU\t\t0.056001522686221064\n",
      "        continent_OC\t\t0.036745053284476775\n",
      "\n",
      "\n",
      "\n"
     ]
    }
   ],
   "source": [
    "files_location_places = ['features_city_encoded.csv',\n",
    "    'features_city_in_text_encoded.csv',\n",
    "    'features_country_encoded.csv',\n",
    "    'features_country_in_text_encoded.csv',\n",
    "    'features_county_encoded.csv',\n",
    "    'features_county_in_text_encoded.csv',\n",
    "    'features_state_encoded.csv',\n",
    "    'features_state_in_text_encoded.csv',\n",
    "    'features_continent_encoded.csv',\n",
    "    'features_continent_in_text_encoded.csv']\n",
    "\n",
    "DT_location_places = decision_trees_files(DIR_CSV + 'train/' , files_location_places, 10)"
   ]
  },
  {
   "cell_type": "markdown",
   "metadata": {},
   "source": [
    "## 4. Links"
   ]
  },
  {
   "cell_type": "markdown",
   "metadata": {},
   "source": [
    "### 4.1 features_links_numerical"
   ]
  },
  {
   "cell_type": "code",
   "execution_count": 31,
   "metadata": {},
   "outputs": [],
   "source": [
    "files_links_numerical = ['features_links_numerical.csv']"
   ]
  },
  {
   "cell_type": "code",
   "execution_count": 21,
   "metadata": {},
   "outputs": [
    {
     "data": {
      "text/html": [
       "<div>\n",
       "<style scoped>\n",
       "    .dataframe tbody tr th:only-of-type {\n",
       "        vertical-align: middle;\n",
       "    }\n",
       "\n",
       "    .dataframe tbody tr th {\n",
       "        vertical-align: top;\n",
       "    }\n",
       "\n",
       "    .dataframe thead th {\n",
       "        text-align: right;\n",
       "    }\n",
       "</style>\n",
       "<table border=\"1\" class=\"dataframe\">\n",
       "  <thead>\n",
       "    <tr style=\"text-align: right;\">\n",
       "      <th></th>\n",
       "      <th>id</th>\n",
       "      <th>links_cant</th>\n",
       "      <th>cant_failed_links</th>\n",
       "    </tr>\n",
       "  </thead>\n",
       "  <tbody>\n",
       "    <tr>\n",
       "      <th>0</th>\n",
       "      <td>48</td>\n",
       "      <td>1</td>\n",
       "      <td>0</td>\n",
       "    </tr>\n",
       "    <tr>\n",
       "      <th>1</th>\n",
       "      <td>49</td>\n",
       "      <td>1</td>\n",
       "      <td>0</td>\n",
       "    </tr>\n",
       "  </tbody>\n",
       "</table>\n",
       "</div>"
      ],
      "text/plain": [
       "   id  links_cant  cant_failed_links\n",
       "0  48           1                  0\n",
       "1  49           1                  0"
      ]
     },
     "metadata": {},
     "output_type": "display_data"
    }
   ],
   "source": [
    "# cargo archivo\n",
    "\n",
    "df_links_numerical = pd.read_csv(DIR_CSV + 'train/features_links_numerical.csv', low_memory=False)\n",
    "df_links_numerical = df_links_numerical [[\"id\", \"links_cant\", \"cant_failed_links\"]]\n",
    "display(df_links_numerical.head(2))"
   ]
  },
  {
   "cell_type": "code",
   "execution_count": 22,
   "metadata": {},
   "outputs": [
    {
     "name": "stdout",
     "output_type": "stream",
     "text": [
      "FEATURES_LINKS_NUMERICAL.CSV\n",
      "\n",
      "             feature           importance\n",
      "\n",
      "          links_cant\t\t  0.8897528194199257\n",
      "   cant_failed_links\t\t 0.11024718058007439\n"
     ]
    }
   ],
   "source": [
    "m = 2\n",
    "\n",
    "# Agrego target mal guardado en csv\n",
    "df_links_numerical = df_links_numerical.merge(target_train, how=\"inner\", on=\"id\")\n",
    "\n",
    "# Separo mi data\n",
    "cols = df_links_numerical.columns\n",
    "X = df_links_numerical.loc[:,cols[1]:cols[-2]]\n",
    "y = df_links_numerical[\"target\"]\n",
    "\n",
    "# Aplico desition tree\n",
    "feature_importances_links_numerical, m_index_links_numerical, m_feature_importances_links_numerical, m_feature_name_links_numerical = decision_tree_feature_search(X,y,m)\n",
    "\n",
    "# Imprimo informacion\n",
    "print_feature_search(m_feature_name_links_numerical, m_feature_importances_links_numerical, \"features_links_numerical.csv\")"
   ]
  },
  {
   "cell_type": "markdown",
   "metadata": {},
   "source": [
    "### 4.2 domains"
   ]
  },
  {
   "cell_type": "code",
   "execution_count": 30,
   "metadata": {},
   "outputs": [],
   "source": [
    "files_domains = [\"features_domain_bow.csv\", \"features_domain_tf_idf.csv\", \"features_domain_smooth_tf_idf.csv\"]"
   ]
  },
  {
   "cell_type": "code",
   "execution_count": 24,
   "metadata": {},
   "outputs": [
    {
     "name": "stdout",
     "output_type": "stream",
     "text": [
      "FEATURES_DOMAIN_BOW.CSV\n",
      "\n",
      "             feature           importance\n",
      "\n",
      "         domain_ebay\t\t  0.0512237262884467\n",
      "          domain_bbc\t\t 0.02834430902425823\n",
      "         domain_news\t\t0.027502150165272556\n",
      "      domain_youtube\t\t 0.01820193708565211\n",
      "      domain_twitter\t\t 0.01586290305056721\n",
      "          domain_cue\t\t 0.01576063041811373\n",
      "      domain_latimes\t\t0.015562245113309782\n",
      "  domain_feedsportal\t\t0.012090302911725918\n",
      "      domain_abcnews\t\t0.012003957492899935\n",
      "          domain_gov\t\t 0.01188470026947286\n",
      "        domain_wired\t\t0.010961997440096568\n",
      "    domain_billboard\t\t0.009887723677175764\n",
      "           domain_co\t\t0.009885972005520646\n",
      "       domain_amazon\t\t 0.00987678868622971\n",
      "    domain_instagram\t\t0.009198231569808549\n",
      "    domain_careerarc\t\t0.008855751281255299\n",
      "       domain_tumblr\t\t0.008671780796415745\n",
      "     domain_facebook\t\t0.007983523481272205\n",
      "domain_emergencyxpreparation\t\t0.007509259730514096\n",
      "           domain_au\t\t0.006406727311923717\n",
      "\n",
      "\n",
      "\n",
      "FEATURES_DOMAIN_TF_IDF.CSV\n",
      "\n",
      "             feature           importance\n",
      "\n",
      "         domain_ebay\t\t 0.05171330384335158\n",
      "      domain_twitter\t\t0.051350395278714475\n",
      "      domain_youtube\t\t0.028533907660021757\n",
      "    domain_instagram\t\t0.020632396617911948\n",
      "         domain_news\t\t0.020446858665744982\n",
      "          domain_bbc\t\t 0.01923639464392743\n",
      "     domain_blogspot\t\t 0.01851753446427214\n",
      "    domain_billboard\t\t0.013583410026544509\n",
      "          domain_cue\t\t0.012438930013521388\n",
      "      domain_latimes\t\t0.012012435528740234\n",
      "       domain_amazon\t\t0.011919088123866326\n",
      "        domain_wired\t\t0.011740863765438014\n",
      "          domain_gov\t\t0.011021736921230625\n",
      "       domain_tumblr\t\t0.010768187838299892\n",
      "   domain_utm_medium\t\t0.009871866205645313\n",
      "    domain_careerarc\t\t 0.00868886310308296\n",
      "           domain_io\t\t0.008672911852253263\n",
      "      domain_abcnews\t\t0.007852851958770541\n",
      "          domain_org\t\t0.007801154880613157\n",
      "           domain_au\t\t0.007261373113043412\n",
      "\n",
      "\n",
      "\n",
      "FEATURES_DOMAIN_SMOOTH_TF_IDF.CSV\n",
      "\n",
      "             feature           importance\n",
      "\n",
      "         domain_ebay\t\t 0.05171330384335158\n",
      "      domain_twitter\t\t 0.04096031053876064\n",
      "      domain_youtube\t\t0.028184369790274433\n",
      "    domain_instagram\t\t0.020632396617911948\n",
      "         domain_news\t\t0.020446858665744982\n",
      "          domain_bbc\t\t0.018992668502565563\n",
      "    domain_billboard\t\t0.013583410026544509\n",
      "          domain_cue\t\t0.012438930013521388\n",
      "      domain_latimes\t\t0.012012435528740234\n",
      "       domain_amazon\t\t 0.01182838088692635\n",
      "        domain_wired\t\t0.011740863765438014\n",
      "       domain_tumblr\t\t0.010767594564226449\n",
      "   domain_utm_medium\t\t0.009858381436367719\n",
      "     domain_blogspot\t\t 0.00913996836638427\n",
      "          domain_org\t\t0.009026575701423128\n",
      "    domain_careerarc\t\t 0.00868886310308296\n",
      "           domain_io\t\t0.008672911852253263\n",
      "domain_emergencyxpreparation\t\t0.007992040665995053\n",
      "           domain_uk\t\t0.007624349638046017\n",
      "      domain_abcnews\t\t0.007588956396089344\n",
      "\n",
      "\n",
      "\n"
     ]
    }
   ],
   "source": [
    "DT_domains = decision_trees_files(DIR_CSV + 'train/' , file_domains, 20)"
   ]
  },
  {
   "cell_type": "markdown",
   "metadata": {},
   "source": [
    "## 5. Tags"
   ]
  },
  {
   "cell_type": "code",
   "execution_count": 25,
   "metadata": {},
   "outputs": [],
   "source": [
    "files_tags = [\"features_tags_bow.csv\", \"features_tags_tf_idf.csv\"]"
   ]
  },
  {
   "cell_type": "code",
   "execution_count": 26,
   "metadata": {
    "scrolled": true
   },
   "outputs": [
    {
     "name": "stdout",
     "output_type": "stream",
     "text": [
      "FEATURES_TAGS_BOW.CSV\n",
      "\n",
      "             feature           importance\n",
      "\n",
      "            tag_fire\t\t0.025323101989574555\n",
      "       tag_hiroshima\t\t0.022535842838259944\n",
      "         tag_suicide\t\t0.022411761547931168\n",
      "              tag_mh\t\t0.018482137196645484\n",
      "           tag_train\t\t 0.01799722505776718\n",
      "        tag_wildfire\t\t 0.01771133467498481\n",
      "          tag_killed\t\t0.016399509793829776\n",
      "         tag_typhoon\t\t0.014795768909343553\n",
      "         tag_migrant\t\t0.012426904584867504\n",
      "           tag_storm\t\t0.012343018713143545\n",
      "           tag_spill\t\t0.011873316703858943\n",
      "     tag_legionnaire\t\t0.011737843602260278\n",
      "         tag_warning\t\t0.011598905206773022\n",
      "          tag_police\t\t 0.01098894447566283\n",
      "          tag_people\t\t0.010985293799118273\n",
      "        tag_accident\t\t0.009986798331988758\n",
      "           tag_japan\t\t  0.0094538047526215\n",
      "      tag_earthquake\t\t0.009232425125523332\n",
      "         tag_israeli\t\t0.008692580659809863\n",
      "         tag_airport\t\t 0.00804776927663771\n",
      "\n",
      "\n",
      "\n",
      "FEATURES_TAGS_TF_IDF.CSV\n",
      "\n",
      "             feature           importance\n",
      "\n",
      "      tag_california\t\t0.024614231357148388\n",
      "         tag_suicide\t\t0.022416882718042472\n",
      "       tag_hiroshima\t\t0.022330404237386043\n",
      "              tag_mh\t\t0.019038912342965165\n",
      "           tag_train\t\t 0.01785119947341212\n",
      "          tag_killed\t\t0.016527790071255728\n",
      "         tag_typhoon\t\t0.014355686040835928\n",
      "           tag_storm\t\t0.013894822124948468\n",
      "          tag_police\t\t0.012996982803848213\n",
      "        tag_accident\t\t0.012663134227988931\n",
      "         tag_warning\t\t0.011965014784275573\n",
      "         tag_migrant\t\t0.011896229971246253\n",
      "     tag_legionnaire\t\t0.011379217617507736\n",
      "       tag_emergency\t\t0.011262975906536148\n",
      "        tag_building\t\t0.010945507439110373\n",
      "         tag_hostage\t\t 0.01018144160172393\n",
      "        tag_collapse\t\t0.010158395830647515\n",
      "           tag_spill\t\t0.009843476397190774\n",
      "           tag_flood\t\t0.009689570183732838\n",
      "           tag_japan\t\t0.009259075740735213\n",
      "\n",
      "\n",
      "\n"
     ]
    }
   ],
   "source": [
    "decision_tree_tags =decision_trees_files(DIR_CSV + 'train/' , files_tags, 20)"
   ]
  },
  {
   "cell_type": "markdown",
   "metadata": {},
   "source": [
    "# Decision tree with every features"
   ]
  },
  {
   "cell_type": "code",
   "execution_count": 35,
   "metadata": {},
   "outputs": [
    {
     "data": {
      "text/plain": [
       "['features_keywords_in_text_encoded.csv',\n",
       " 'features_keywords_numerical.csv',\n",
       " 'features_arrobas_numerical.csv',\n",
       " 'features_text_numerical.csv',\n",
       " 'features_hashtags_numerical.csv',\n",
       " 'features_tagged.csv',\n",
       " 'features_tagged_smooth.csv',\n",
       " 'features_hashtags.csv',\n",
       " 'features_hashtags_smooth.csv',\n",
       " 'features_location_bow.csv',\n",
       " 'features_location_tf_idf.csv',\n",
       " 'features_city_encoded.csv',\n",
       " 'features_city_in_text_encoded.csv',\n",
       " 'features_country_encoded.csv',\n",
       " 'features_country_in_text_encoded.csv',\n",
       " 'features_county_encoded.csv',\n",
       " 'features_county_in_text_encoded.csv',\n",
       " 'features_state_encoded.csv',\n",
       " 'features_state_in_text_encoded.csv',\n",
       " 'features_continent_encoded.csv',\n",
       " 'features_continent_in_text_encoded.csv',\n",
       " 'features_location_in_text_numerical.csv',\n",
       " 'features_location_numerical.csv',\n",
       " 'features_links_numerical.csv',\n",
       " 'features_domain_bow.csv',\n",
       " 'features_domain_tf_idf.csv',\n",
       " 'features_domain_smooth_tf_idf.csv',\n",
       " 'features_tags_bow.csv',\n",
       " 'features_tags_tf_idf.csv']"
      ]
     },
     "execution_count": 35,
     "metadata": {},
     "output_type": "execute_result"
    }
   ],
   "source": [
    "# Busco los nombres de todos los archivos\n",
    "\n",
    "lists_of_files = [files_keywords,\n",
    "         files_text_numerical,\n",
    "         files_text,\n",
    "         files_location,\n",
    "         files_location_places,\n",
    "         files_location_in_text_numerical,\n",
    "         files_location_numerical,\n",
    "         files_links_numerical,\n",
    "         files_domains,\n",
    "         files_tags]\n",
    "\n",
    "files = []\n",
    "for l in lists_of_files:\n",
    "    for e in l:\n",
    "        files.append(e)\n",
    "\n",
    "files"
   ]
  },
  {
   "cell_type": "code",
   "execution_count": 56,
   "metadata": {},
   "outputs": [],
   "source": [
    "# Creo único df\n",
    "\n",
    "df_unico = train[[\"id\"]]"
   ]
  },
  {
   "cell_type": "code",
   "execution_count": 57,
   "metadata": {},
   "outputs": [],
   "source": [
    "for f in files:\n",
    "    df = pd.read_csv(DIR_CSV+\"train/\"+f, header=0)\n",
    "    df_unico = df_unico.merge(df, on=\"id\", how=\"left\")"
   ]
  },
  {
   "cell_type": "code",
   "execution_count": 59,
   "metadata": {},
   "outputs": [
    {
     "data": {
      "text/plain": [
       "Index(['id', 'Unnamed: 0_x', 'target_x', 'K_ablaze', 'K_accident',\n",
       "       'K_aftershock', 'K_airplane accident', 'K_ambulance', 'K_annihilate',\n",
       "       'K_annihilation',\n",
       "       ...\n",
       "       'tag_wind_y', 'tag_windstorm_y', 'tag_woman_y', 'tag_wound_y',\n",
       "       'tag_wounded_y', 'tag_wreck_y', 'tag_wreckage_y', 'tag_wrecked_y',\n",
       "       'tag_yr_y', 'tag_zone_y'],\n",
       "      dtype='object', length=13963)"
      ]
     },
     "execution_count": 59,
     "metadata": {},
     "output_type": "execute_result"
    }
   ],
   "source": [
    "df_unico.columns"
   ]
  },
  {
   "cell_type": "code",
   "execution_count": 60,
   "metadata": {},
   "outputs": [],
   "source": [
    "y = df_unico[\"target_x\"]\n",
    "del df_unico[\"target_x\"]\n",
    "del df_unico[\"id\"]\n",
    "del df_unico[\"Unnamed: 0_x\"]\n",
    "X = df_unico\n"
   ]
  },
  {
   "cell_type": "code",
   "execution_count": 61,
   "metadata": {},
   "outputs": [],
   "source": [
    "X = X.fillna(0)"
   ]
  },
  {
   "cell_type": "code",
   "execution_count": null,
   "metadata": {},
   "outputs": [],
   "source": [
    "clf = tree.DecisionTreeRegressor()\n",
    "clf = clf.fit(X, y)"
   ]
  },
  {
   "cell_type": "code",
   "execution_count": null,
   "metadata": {},
   "outputs": [],
   "source": [
    "feature_importances, m_index, m_feature_importances, m_feature_name = decision_tree_feature_search(X,y,20)"
   ]
  },
  {
   "cell_type": "code",
   "execution_count": null,
   "metadata": {},
   "outputs": [],
   "source": [
    "print_feature_search(m_feature_name, m_feature_importances, \"único árbol con todos los features\")"
   ]
  },
  {
   "cell_type": "markdown",
   "metadata": {},
   "source": [
    "# IV) Conclusion"
   ]
  },
  {
   "cell_type": "code",
   "execution_count": null,
   "metadata": {},
   "outputs": [],
   "source": []
  }
 ],
 "metadata": {
  "kernelspec": {
   "display_name": "Python 3",
   "language": "python",
   "name": "python3"
  },
  "language_info": {
   "codemirror_mode": {
    "name": "ipython",
    "version": 3
   },
   "file_extension": ".py",
   "mimetype": "text/x-python",
   "name": "python",
   "nbconvert_exporter": "python",
   "pygments_lexer": "ipython3",
   "version": "3.6.10"
  }
 },
 "nbformat": 4,
 "nbformat_minor": 2
}
