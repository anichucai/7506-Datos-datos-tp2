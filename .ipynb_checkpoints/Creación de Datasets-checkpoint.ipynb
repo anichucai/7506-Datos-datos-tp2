{
 "cells": [
  {
   "cell_type": "markdown",
   "metadata": {},
   "source": [
    "# <span style=\"color:#9c8f8f\"> 75.06/95.58 Organización de Datos</span>\n",
    "# <span style=\"color:#9c8f8f\"> Análisis exploratorio: Real or Not? NLP with Disaster Tweets</span>"
   ]
  },
  {
   "cell_type": "markdown",
   "metadata": {},
   "source": [
    "# <center>CREACIÓN DE DATAFRAMES</center>"
   ]
  },
  {
   "cell_type": "markdown",
   "metadata": {},
   "source": [
    "En el siguiente notebook se crean distintos data sets en base al análisis realizo en el TP1 y lo que parezca conveniente para la predicción.\n",
    "Estos datasets luego se almacenan como archivos .csv para ser utilizados en los pasos siguientes de este trabajo práctico."
   ]
  },
  {
   "cell_type": "markdown",
   "metadata": {},
   "source": [
    "# 1. Preliminar"
   ]
  },
  {
   "cell_type": "markdown",
   "metadata": {},
   "source": [
    "## 1.1 Carga de librerías"
   ]
  },
  {
   "cell_type": "code",
   "execution_count": 1,
   "metadata": {},
   "outputs": [],
   "source": [
    "import pandas as pd\n",
    "\n",
    "import numpy as np\n",
    "\n",
    "import nltk, os, re, string, collections\n",
    "\n",
    "%matplotlib inline"
   ]
  },
  {
   "cell_type": "markdown",
   "metadata": {},
   "source": [
    "## 1.2 Carga de datos\n",
    "Debido a que se trabajara con grandes cantidades de data, se definió convenientemente los tipos de datos de los datos pasados por archivo para no sobrecargar al parser de los archivos csv y ahorrar espacio de memoria."
   ]
  },
  {
   "cell_type": "code",
   "execution_count": 2,
   "metadata": {},
   "outputs": [],
   "source": [
    "# Directorios de los archivos a leer y escribir\n",
    "\n",
    "DIR_ORIG = \"original_data/\"\n",
    "DIR_NEW = \"new_data/\""
   ]
  },
  {
   "cell_type": "code",
   "execution_count": 3,
   "metadata": {},
   "outputs": [],
   "source": [
    "# Carga de archivos de data original de la competencia\n",
    "\n",
    "dtype_test = {\"id\": np.int32, \"keyword\": \"category\"}\n",
    "test = pd.read_csv(DIR_ORIG+\"test.csv\", dtype = dtype_test)\n",
    "\n",
    "dtype_train = {\"id\": np.int32, \"keyword\": \"category\", \"target\" : bool}\n",
    "train = pd.read_csv(DIR_ORIG+\"train.csv\", dtype = dtype_train, encoding='UTF_8')\n",
    "\n",
    "sample = pd.read_csv(DIR_ORIG+\"sample_submission.csv\")"
   ]
  },
  {
   "cell_type": "markdown",
   "metadata": {},
   "source": [
    "## 1.3 Funciones de limpieza"
   ]
  },
  {
   "cell_type": "code",
   "execution_count": 4,
   "metadata": {},
   "outputs": [],
   "source": [
    "# Función que saca los links\n",
    "\n",
    "def quitar_link_twitter(tweet):\n",
    "    res = []\n",
    "    for w in tweet.split(\" \"):\n",
    "        if ((\"http\" not in w) and (\"https\" not in w)):\n",
    "            res.append(w)\n",
    "    return (\" \").join(res)"
   ]
  },
  {
   "cell_type": "code",
   "execution_count": 5,
   "metadata": {},
   "outputs": [],
   "source": [
    "# Función que saca las menciones\n",
    "\n",
    "def quitar_mencion_twitter(tweet):\n",
    "    res = []\n",
    "    for w in tweet.split(\" \"):\n",
    "        if(\"@\" not in w):\n",
    "            res.append(w)\n",
    "    return (\" \").join(res)"
   ]
  },
  {
   "cell_type": "markdown",
   "metadata": {},
   "source": [
    "# 2. Data sets"
   ]
  },
  {
   "cell_type": "markdown",
   "metadata": {},
   "source": [
    "## cantidades.csv"
   ]
  },
  {
   "cell_type": "code",
   "execution_count": 6,
   "metadata": {},
   "outputs": [],
   "source": [
    "# Funciones auxiliares\n",
    "\n",
    "# Identificadores de características en un string\n",
    "\n",
    "stopword = nltk.corpus.stopwords.words('english')\n",
    "\n",
    "def stop(text):\n",
    "    return [w for w in text.split() if w.lower() in stopword]\n",
    "\n",
    "def length(text):\n",
    "    return(np.mean([len(w) for w in text.split()]))\n",
    "\n",
    "def punct(text):\n",
    "    return [c for c in text if c in string.punctuation]\n",
    "\n",
    "def title(text):\n",
    "    return [w for w in text.split() if w.istitle()]\n",
    "\n",
    "def upper_list(text):\n",
    "    return [w for w in text.split() if w.isupper()]\n",
    "\n",
    "def lower_list(text):\n",
    "    return [w for w in text.split() if w.islower()]\n",
    "\n",
    "# Función que cuenta sílabas en un string\n",
    "\n",
    "def syllables(text):\n",
    "    count = 0\n",
    "    vowels = 'aeiouy'\n",
    "    for word in text:\n",
    "        word= word.lower()\n",
    "        if word[0] in vowels:\n",
    "            count +=1\n",
    "        for index in range(1,len(word)):\n",
    "            if word[index] in vowels and word[index-1] not in vowels:\n",
    "                count +=1\n",
    "        if word.endswith('e'):\n",
    "            count -= 1\n",
    "        if word.endswith('le'):\n",
    "            count+=1\n",
    "        if count == 0:\n",
    "            count +=1\n",
    "    return count"
   ]
  },
  {
   "cell_type": "code",
   "execution_count": 7,
   "metadata": {},
   "outputs": [],
   "source": [
    "# Creo datafram \n",
    "# Saco menciones y links\n",
    "\n",
    "palabras = train[[\"id\",\"text\"]].copy()\n",
    "palabras.set_index('id')\n",
    "\n",
    "palabras['text'] = palabras['text'].apply(lambda x: quitar_link_twitter(x))\n",
    "palabras['text'] = palabras['text'].apply(lambda x: quitar_mencion_twitter(x))"
   ]
  },
  {
   "cell_type": "code",
   "execution_count": 8,
   "metadata": {
    "scrolled": false
   },
   "outputs": [
    {
     "name": "stderr",
     "output_type": "stream",
     "text": [
      "/home/anichu/Programs/anaconda3/lib/python3.6/site-packages/numpy/core/fromnumeric.py:3335: RuntimeWarning: Mean of empty slice.\n",
      "  out=out, **kwargs)\n"
     ]
    }
   ],
   "source": [
    "# Creo varias columnas\n",
    "\n",
    "# Número de palabras usadas\n",
    "palabras['#palabras'] = palabras['text'].apply(lambda x: len(x.split()))\n",
    "\n",
    "# Número de palabras únicas\n",
    "palabras['#palabras_unicas'] =  palabras['text'].apply(lambda x: len(set(x.split())))\n",
    "\n",
    "# Número de caracteres\n",
    "palabras['#caracteres'] =  palabras['text'].apply(lambda x: len(x))\n",
    "\n",
    "# Número de stopwords\n",
    "palabras['#stopwords'] = palabras['text'].apply(lambda x: len(stop(x)))\n",
    "    \n",
    "# Número de caracteres de puntuación\n",
    "palabras['#putuacion'] = palabras['text'].apply(lambda x: len(punct(x)))\n",
    "    \n",
    "# Número de palabras Capitalizadas\n",
    "palabras['#capitalize'] = palabras['text'].apply(lambda x: len(title(x)))\n",
    "\n",
    "# Número de palabras MAYUSCULAS\n",
    "palabras['#mayusculas'] = palabras['text'].apply(lambda x: len(upper_list(x)))\n",
    "        \n",
    "# Número de silabas\n",
    "palabras['#silabas'] = palabras['text'].apply(lambda x: syllables(x))\n",
    "    \n",
    "# Promedio de longitud del tweet\n",
    "palabras['promedio_len_word'] = palabras['text'].apply(lambda x: length(x))"
   ]
  },
  {
   "cell_type": "code",
   "execution_count": 9,
   "metadata": {},
   "outputs": [],
   "source": [
    "# Creo archivo csv\n",
    "del palabras[\"text\"]\n",
    "palabras.to_csv(DIR_NEW + 'cantidades.csv', index=False)"
   ]
  },
  {
   "cell_type": "code",
   "execution_count": 10,
   "metadata": {
    "scrolled": true
   },
   "outputs": [
    {
     "data": {
      "text/html": [
       "<div>\n",
       "<style scoped>\n",
       "    .dataframe tbody tr th:only-of-type {\n",
       "        vertical-align: middle;\n",
       "    }\n",
       "\n",
       "    .dataframe tbody tr th {\n",
       "        vertical-align: top;\n",
       "    }\n",
       "\n",
       "    .dataframe thead th {\n",
       "        text-align: right;\n",
       "    }\n",
       "</style>\n",
       "<table border=\"1\" class=\"dataframe\">\n",
       "  <thead>\n",
       "    <tr style=\"text-align: right;\">\n",
       "      <th></th>\n",
       "      <th>id</th>\n",
       "      <th>#palabras</th>\n",
       "      <th>#palabras_unicas</th>\n",
       "      <th>#caracteres</th>\n",
       "      <th>#stopwords</th>\n",
       "      <th>#putuacion</th>\n",
       "      <th>#capitalize</th>\n",
       "      <th>#mayusculas</th>\n",
       "      <th>#silabas</th>\n",
       "      <th>promedio_len_word</th>\n",
       "    </tr>\n",
       "  </thead>\n",
       "  <tbody>\n",
       "    <tr>\n",
       "      <th>0</th>\n",
       "      <td>1</td>\n",
       "      <td>13</td>\n",
       "      <td>13</td>\n",
       "      <td>69</td>\n",
       "      <td>6</td>\n",
       "      <td>1</td>\n",
       "      <td>5</td>\n",
       "      <td>1</td>\n",
       "      <td>18</td>\n",
       "      <td>4.384615</td>\n",
       "    </tr>\n",
       "    <tr>\n",
       "      <th>1</th>\n",
       "      <td>4</td>\n",
       "      <td>7</td>\n",
       "      <td>7</td>\n",
       "      <td>38</td>\n",
       "      <td>0</td>\n",
       "      <td>1</td>\n",
       "      <td>5</td>\n",
       "      <td>0</td>\n",
       "      <td>10</td>\n",
       "      <td>4.571429</td>\n",
       "    </tr>\n",
       "    <tr>\n",
       "      <th>2</th>\n",
       "      <td>5</td>\n",
       "      <td>22</td>\n",
       "      <td>20</td>\n",
       "      <td>133</td>\n",
       "      <td>11</td>\n",
       "      <td>3</td>\n",
       "      <td>2</td>\n",
       "      <td>0</td>\n",
       "      <td>26</td>\n",
       "      <td>5.090909</td>\n",
       "    </tr>\n",
       "    <tr>\n",
       "      <th>3</th>\n",
       "      <td>6</td>\n",
       "      <td>8</td>\n",
       "      <td>8</td>\n",
       "      <td>65</td>\n",
       "      <td>1</td>\n",
       "      <td>2</td>\n",
       "      <td>1</td>\n",
       "      <td>0</td>\n",
       "      <td>17</td>\n",
       "      <td>7.125000</td>\n",
       "    </tr>\n",
       "    <tr>\n",
       "      <th>4</th>\n",
       "      <td>7</td>\n",
       "      <td>16</td>\n",
       "      <td>15</td>\n",
       "      <td>88</td>\n",
       "      <td>7</td>\n",
       "      <td>2</td>\n",
       "      <td>3</td>\n",
       "      <td>0</td>\n",
       "      <td>24</td>\n",
       "      <td>4.500000</td>\n",
       "    </tr>\n",
       "  </tbody>\n",
       "</table>\n",
       "</div>"
      ],
      "text/plain": [
       "   id  #palabras  #palabras_unicas  #caracteres  #stopwords  #putuacion  \\\n",
       "0   1         13                13           69           6           1   \n",
       "1   4          7                 7           38           0           1   \n",
       "2   5         22                20          133          11           3   \n",
       "3   6          8                 8           65           1           2   \n",
       "4   7         16                15           88           7           2   \n",
       "\n",
       "   #capitalize  #mayusculas  #silabas  promedio_len_word  \n",
       "0            5            1        18           4.384615  \n",
       "1            5            0        10           4.571429  \n",
       "2            2            0        26           5.090909  \n",
       "3            1            0        17           7.125000  \n",
       "4            3            0        24           4.500000  "
      ]
     },
     "metadata": {},
     "output_type": "display_data"
    },
    {
     "data": {
      "text/plain": [
       "(7613, 10)"
      ]
     },
     "metadata": {},
     "output_type": "display_data"
    }
   ],
   "source": [
    "# Muestro contenido del csv\n",
    "\n",
    "cantidades_csv = pd.read_csv(DIR_NEW + 'cantidades.csv', low_memory=False)\n",
    "display(cantidades_csv.head())\n",
    "display(cantidades_csv.shape)"
   ]
  },
  {
   "cell_type": "markdown",
   "metadata": {},
   "source": [
    "## pronombres.csv"
   ]
  },
  {
   "cell_type": "code",
   "execution_count": 11,
   "metadata": {},
   "outputs": [],
   "source": [
    "# Funciones auxiliares\n",
    "\n",
    "def count_word_tweet(tweet, words):\n",
    "    cant = 0\n",
    "    for w in tweet.lower().split(\" \"):\n",
    "        if w in words:\n",
    "            cant+=1\n",
    "    return cant\n",
    "\n",
    "def count_letter_tweet(tweet, char):\n",
    "    cant = 0\n",
    "    for words in tweet.lower().split(\" \"):\n",
    "        for w in words:\n",
    "            if char in w:\n",
    "                cant+=1\n",
    "    return cant"
   ]
  },
  {
   "cell_type": "code",
   "execution_count": 12,
   "metadata": {},
   "outputs": [],
   "source": [
    "# Creo un dataframe con la cantidad de pronombres personales\n",
    "\n",
    "df_pronombres = train[[\"id\"]].copy()\n",
    "\n",
    "df_pronombres['she'] = train['text'].apply(lambda x: count_word_tweet(x, [\"she\", \"she's\"]))\n",
    "df_pronombres['he'] = train['text'].apply(lambda x: count_word_tweet(x, [\"he\", \"he's\"]))\n",
    "df_pronombres['it'] = train['text'].apply(lambda x: count_word_tweet(x, [\"it\", \"it's\"]))\n",
    "df_pronombres['i'] = train['text'].apply(lambda x: count_word_tweet(x, [\"i\", \"i'm\"]))\n",
    "df_pronombres['you'] = train['text'].apply(lambda x: count_word_tweet(x, [\"you\",\"you're\"]))\n",
    "df_pronombres['they'] = train['text'].apply(lambda x: count_word_tweet(x, [\"they\",\"they're\"]))\n",
    "df_pronombres['we'] = train['text'].apply(lambda x: count_word_tweet(x, [\"we\",\"we're\"]))\n",
    "\n",
    "df_pronombres['total'] = df_pronombres['she'] + df_pronombres['he']+ df_pronombres['they']+\\\n",
    "            df_pronombres['it'] +df_pronombres['you'] + df_pronombres['i'] + df_pronombres['we']"
   ]
  },
  {
   "cell_type": "code",
   "execution_count": 13,
   "metadata": {},
   "outputs": [],
   "source": [
    "# Creo archivo csv\n",
    "\n",
    "df_pronombres.set_index('id')\n",
    "df_pronombres.to_csv(DIR_NEW + 'pronombres.csv', index=False)"
   ]
  },
  {
   "cell_type": "code",
   "execution_count": 14,
   "metadata": {},
   "outputs": [
    {
     "data": {
      "text/html": [
       "<div>\n",
       "<style scoped>\n",
       "    .dataframe tbody tr th:only-of-type {\n",
       "        vertical-align: middle;\n",
       "    }\n",
       "\n",
       "    .dataframe tbody tr th {\n",
       "        vertical-align: top;\n",
       "    }\n",
       "\n",
       "    .dataframe thead th {\n",
       "        text-align: right;\n",
       "    }\n",
       "</style>\n",
       "<table border=\"1\" class=\"dataframe\">\n",
       "  <thead>\n",
       "    <tr style=\"text-align: right;\">\n",
       "      <th></th>\n",
       "      <th>id</th>\n",
       "      <th>she</th>\n",
       "      <th>he</th>\n",
       "      <th>it</th>\n",
       "      <th>i</th>\n",
       "      <th>you</th>\n",
       "      <th>they</th>\n",
       "      <th>we</th>\n",
       "      <th>total</th>\n",
       "    </tr>\n",
       "  </thead>\n",
       "  <tbody>\n",
       "    <tr>\n",
       "      <th>0</th>\n",
       "      <td>1</td>\n",
       "      <td>0</td>\n",
       "      <td>0</td>\n",
       "      <td>0</td>\n",
       "      <td>0</td>\n",
       "      <td>0</td>\n",
       "      <td>0</td>\n",
       "      <td>0</td>\n",
       "      <td>0</td>\n",
       "    </tr>\n",
       "    <tr>\n",
       "      <th>1</th>\n",
       "      <td>4</td>\n",
       "      <td>0</td>\n",
       "      <td>0</td>\n",
       "      <td>0</td>\n",
       "      <td>0</td>\n",
       "      <td>0</td>\n",
       "      <td>0</td>\n",
       "      <td>0</td>\n",
       "      <td>0</td>\n",
       "    </tr>\n",
       "    <tr>\n",
       "      <th>2</th>\n",
       "      <td>5</td>\n",
       "      <td>0</td>\n",
       "      <td>0</td>\n",
       "      <td>0</td>\n",
       "      <td>0</td>\n",
       "      <td>0</td>\n",
       "      <td>0</td>\n",
       "      <td>0</td>\n",
       "      <td>0</td>\n",
       "    </tr>\n",
       "    <tr>\n",
       "      <th>3</th>\n",
       "      <td>6</td>\n",
       "      <td>0</td>\n",
       "      <td>0</td>\n",
       "      <td>0</td>\n",
       "      <td>0</td>\n",
       "      <td>0</td>\n",
       "      <td>0</td>\n",
       "      <td>0</td>\n",
       "      <td>0</td>\n",
       "    </tr>\n",
       "    <tr>\n",
       "      <th>4</th>\n",
       "      <td>7</td>\n",
       "      <td>0</td>\n",
       "      <td>0</td>\n",
       "      <td>0</td>\n",
       "      <td>0</td>\n",
       "      <td>0</td>\n",
       "      <td>0</td>\n",
       "      <td>0</td>\n",
       "      <td>0</td>\n",
       "    </tr>\n",
       "  </tbody>\n",
       "</table>\n",
       "</div>"
      ],
      "text/plain": [
       "   id  she  he  it  i  you  they  we  total\n",
       "0   1    0   0   0  0    0     0   0      0\n",
       "1   4    0   0   0  0    0     0   0      0\n",
       "2   5    0   0   0  0    0     0   0      0\n",
       "3   6    0   0   0  0    0     0   0      0\n",
       "4   7    0   0   0  0    0     0   0      0"
      ]
     },
     "metadata": {},
     "output_type": "display_data"
    },
    {
     "data": {
      "text/plain": [
       "(7613, 9)"
      ]
     },
     "metadata": {},
     "output_type": "display_data"
    }
   ],
   "source": [
    "# Muestro contenido del csv\n",
    "\n",
    "pronombres_csv = pd.read_csv(DIR_NEW + 'pronombres.csv', low_memory=False)\n",
    "display(pronombres_csv.head())\n",
    "display(pronombres_csv.shape)"
   ]
  },
  {
   "cell_type": "markdown",
   "metadata": {},
   "source": [
    "## cant_hashtags.csv"
   ]
  },
  {
   "cell_type": "code",
   "execution_count": 15,
   "metadata": {},
   "outputs": [],
   "source": [
    "# Funciones auxiliares\n",
    "\n",
    "# Funcion que limpia un poco el tweet\n",
    "\n",
    "def cleanTweet(tweet):\n",
    "    tw = \" \"\n",
    "    words = tweet.split(' ')\n",
    "    for word in words:\n",
    "        word = ''.join(filter(lambda x: x in set(string.printable), word))\n",
    "        word = word.replace(\"\\n\",\" \")\n",
    "        word = word.replace('û',\"\")\n",
    "        word = word.replace('_','')\n",
    "        word = word.replace(\"\\\"\",'')\n",
    "        word = word.strip('.')\n",
    "        word = word.strip(',')\n",
    "        word = word.strip(':')\n",
    "        tw += word + \" \"\n",
    "    return tw\n",
    "\n",
    "# Recibe un tweet en forma de string y devuelve otro string con sus\n",
    "# hashtags con el separador ',' de por medio y en minuscula.\n",
    "\n",
    "def get_hashtags(tweet):\n",
    "    res = \"\"\n",
    "    words = tweet.split(' ')\n",
    "    for word in words:\n",
    "        if(word != \"\" and word[0]=='#'):\n",
    "            res += word.lower() +\" \"\n",
    "    return res[:-1]\n",
    "\n",
    "# Recibe un string y devuelve la cantidad de substrings que son separados por un delimitador ',' .\n",
    "def cant_substrings(string):\n",
    "    cant = 0\n",
    "    delimiter =  '#'\n",
    "    for c in string:\n",
    "        if(c == delimiter):\n",
    "            cant +=1\n",
    "    return cant"
   ]
  },
  {
   "cell_type": "code",
   "execution_count": 16,
   "metadata": {},
   "outputs": [],
   "source": [
    "df_hashtags = train[['id', 'text']].copy()\n",
    "\n",
    "df_hashtags['text'] = df_hashtags['text'].apply(cleanTweet)\n",
    "df_hashtags['hashtags'] = df_hashtags['text'].apply(get_hashtags).astype(str)\n",
    "df_hashtags['cant_hashtags'] = df_hashtags['text'].apply(cant_substrings)\n",
    "df_hashtags['tiene_hashtag'] = df_hashtags['cant_hashtags'].apply(lambda x: False if x==0 else True)"
   ]
  },
  {
   "cell_type": "code",
   "execution_count": 17,
   "metadata": {},
   "outputs": [],
   "source": [
    "# Creo archivo csv\n",
    "\n",
    "df_hashtags.set_index('id')\n",
    "del df_hashtags[\"text\"], df_hashtags[\"hashtags\"]\n",
    "df_hashtags.to_csv(DIR_NEW + 'cant_hashtags.csv', index=False)"
   ]
  },
  {
   "cell_type": "code",
   "execution_count": 18,
   "metadata": {},
   "outputs": [
    {
     "data": {
      "text/html": [
       "<div>\n",
       "<style scoped>\n",
       "    .dataframe tbody tr th:only-of-type {\n",
       "        vertical-align: middle;\n",
       "    }\n",
       "\n",
       "    .dataframe tbody tr th {\n",
       "        vertical-align: top;\n",
       "    }\n",
       "\n",
       "    .dataframe thead th {\n",
       "        text-align: right;\n",
       "    }\n",
       "</style>\n",
       "<table border=\"1\" class=\"dataframe\">\n",
       "  <thead>\n",
       "    <tr style=\"text-align: right;\">\n",
       "      <th></th>\n",
       "      <th>id</th>\n",
       "      <th>cant_hashtags</th>\n",
       "      <th>tiene_hashtag</th>\n",
       "    </tr>\n",
       "  </thead>\n",
       "  <tbody>\n",
       "    <tr>\n",
       "      <th>0</th>\n",
       "      <td>1</td>\n",
       "      <td>1</td>\n",
       "      <td>True</td>\n",
       "    </tr>\n",
       "    <tr>\n",
       "      <th>1</th>\n",
       "      <td>4</td>\n",
       "      <td>0</td>\n",
       "      <td>False</td>\n",
       "    </tr>\n",
       "    <tr>\n",
       "      <th>2</th>\n",
       "      <td>5</td>\n",
       "      <td>0</td>\n",
       "      <td>False</td>\n",
       "    </tr>\n",
       "    <tr>\n",
       "      <th>3</th>\n",
       "      <td>6</td>\n",
       "      <td>1</td>\n",
       "      <td>True</td>\n",
       "    </tr>\n",
       "    <tr>\n",
       "      <th>4</th>\n",
       "      <td>7</td>\n",
       "      <td>2</td>\n",
       "      <td>True</td>\n",
       "    </tr>\n",
       "  </tbody>\n",
       "</table>\n",
       "</div>"
      ],
      "text/plain": [
       "   id  cant_hashtags  tiene_hashtag\n",
       "0   1              1           True\n",
       "1   4              0          False\n",
       "2   5              0          False\n",
       "3   6              1           True\n",
       "4   7              2           True"
      ]
     },
     "metadata": {},
     "output_type": "display_data"
    },
    {
     "data": {
      "text/plain": [
       "(7613, 3)"
      ]
     },
     "metadata": {},
     "output_type": "display_data"
    }
   ],
   "source": [
    "# Muestro contenido del csv\n",
    "\n",
    "cant_hashtags_csv = pd.read_csv(DIR_NEW + 'cant_hashtags.csv', low_memory=False)\n",
    "display(cant_hashtags_csv.head())\n",
    "display(cant_hashtags_csv.shape)"
   ]
  },
  {
   "cell_type": "markdown",
   "metadata": {},
   "source": [
    "## puntuacion_cant.csv y  puntuacion_cat.csv"
   ]
  },
  {
   "cell_type": "code",
   "execution_count": 19,
   "metadata": {},
   "outputs": [],
   "source": [
    "# Funciones auxiliares\n",
    "\n",
    "def puntuacion_de_tw(tweet):\n",
    "    \n",
    "    res = \"\"\n",
    "    for c in tweet:\n",
    "        if(c in string.punctuation):\n",
    "            res += c\n",
    "    return (\"\").join(sorted(res))\n",
    "\n",
    "\n",
    "def n_char_en_palabra(text,chars,n):\n",
    "    \n",
    "    n_chars = [c*n for c in (\"\").join(chars.split(\" \"))]\n",
    "    res = []\n",
    "    \n",
    "    text_aux = text.lower()\n",
    "    \n",
    "    for w in text_aux.split():\n",
    "        \n",
    "        for n_char in n_chars:\n",
    "            if(n_char in w):\n",
    "                res.append(n_char)\n",
    "    return (\" \").join(res)\n",
    "\n",
    "def tres_letras_de_tw(tweet):\n",
    "    letras = string.ascii_letters\n",
    "    res =  n_char_en_palabra(tweet,letras,3)\n",
    "    return res\n",
    "\n",
    "def tres_punct_de_tw(tweet):\n",
    "    punt = string.punctuation\n",
    "    res = n_char_en_palabra(tweet,punt,3)\n",
    "    return res\n",
    "\n",
    "\n",
    "def dos_punct_de_tw(tweet):\n",
    "    punt = string.punctuation\n",
    "    res= n_char_en_palabra(tweet,punt,2)\n",
    "    return res\n",
    "\n",
    "\n",
    "def cant_puntos_suspensivos_tw(tweet):\n",
    "    cant = 0\n",
    "    for w in tweet.split():\n",
    "        w = w.lower()        \n",
    "        if \"...\" in w:\n",
    "            cant+=1\n",
    "    return cant\n",
    "\n",
    "def cant_signos_de_pregunta_tw(tweet):\n",
    "    cant = 0\n",
    "    for w in tweet.split():\n",
    "        w = w.lower()        \n",
    "        if \"??\" in w:\n",
    "            cant+=1\n",
    "    return cant\n",
    "\n",
    "def cant_signos_de_exclamacion_tw(tweet):\n",
    "    cant = 0\n",
    "    for w in tweet.split():\n",
    "        w = w.lower()        \n",
    "        if \"!!\" in w:\n",
    "            cant+=1\n",
    "    return cant"
   ]
  },
  {
   "cell_type": "code",
   "execution_count": 20,
   "metadata": {},
   "outputs": [],
   "source": [
    "def count_punt(string):\n",
    "    if string == \"\":\n",
    "        return 0\n",
    "    return len(string.split(\" \"))"
   ]
  },
  {
   "cell_type": "code",
   "execution_count": 21,
   "metadata": {},
   "outputs": [],
   "source": [
    "# Creo datafram \n",
    "# Saco menciones y links\n",
    "\n",
    "df_caracteres = train[[\"id\",\"text\"]].copy()\n",
    "df_caracteres.set_index('id')\n",
    "\n",
    "df_caracteres['text'] = df_caracteres['text'].apply(lambda x: quitar_link_twitter(x))\n",
    "df_caracteres['text'] = df_caracteres['text'].apply(lambda x: quitar_mencion_twitter(x))"
   ]
  },
  {
   "cell_type": "code",
   "execution_count": 22,
   "metadata": {},
   "outputs": [],
   "source": [
    "# Agrego columnas a df_caracteres\n",
    "\n",
    "df_caracteres[\"punct\"] = df_caracteres['text'].apply(lambda x: puntuacion_de_tw(x))\n",
    "df_caracteres[\"cant_punct\"] = df_caracteres['punct'].apply(lambda x: len(x))\n",
    "\n",
    "df_caracteres = df_caracteres[lambda x: x.cant_punct>0] # filtro tweets sin puntuacion\n",
    "\n",
    "df_caracteres[\"punct_multiple\"] = df_caracteres['text'].apply(lambda x: dos_punct_de_tw(x))\n",
    "df_caracteres[\"cant_punct_multiple\"] = df_caracteres['punct_multiple'].apply(lambda x: count_punt(x))\n",
    "\n",
    "\n",
    "df_caracteres[\"punctx3\"] = df_caracteres['text'].apply(lambda x: tres_punct_de_tw(x))\n",
    "df_caracteres[\"cant_punctx3\"] = df_caracteres['punctx3'].apply(lambda x: count_punt(x))\n",
    "\n",
    "df_caracteres[\"cant...\"] = df_caracteres['text'].apply(lambda x: cant_puntos_suspensivos_tw(x))\n",
    "df_caracteres[\"cant_multiple_?\"] = df_caracteres['text'].apply(lambda x: cant_signos_de_pregunta_tw(x))\n",
    "df_caracteres[\"cant_multiple_!\"] = df_caracteres['text'].apply(lambda x: cant_signos_de_exclamacion_tw(x))"
   ]
  },
  {
   "cell_type": "code",
   "execution_count": 23,
   "metadata": {},
   "outputs": [],
   "source": [
    "# Separo los atributos numéricos de los categóricos\n",
    "\n",
    "del df_caracteres[\"text\"]\n",
    "\n",
    "atributos_cant = [\"id\"]\n",
    "atributos_char = []\n",
    "for col_name in df_caracteres.columns:\n",
    "    if \"cant\" in col_name:\n",
    "        atributos_cant.append(col_name)\n",
    "    else:\n",
    "        atributos_char.append(col_name)"
   ]
  },
  {
   "cell_type": "code",
   "execution_count": 24,
   "metadata": {},
   "outputs": [],
   "source": [
    "# Creo archivo csv\n",
    "\n",
    "df_caracteres.set_index('id')\n",
    "\n",
    "df_caracteres[atributos_cant].to_csv(DIR_NEW + 'puntuacion_cant.csv', index=False)\n",
    "\n",
    "df_caracteres[atributos_char].to_csv(DIR_NEW + 'puntuacion_cat.csv', index=False)"
   ]
  },
  {
   "cell_type": "code",
   "execution_count": 25,
   "metadata": {},
   "outputs": [
    {
     "data": {
      "text/html": [
       "<div>\n",
       "<style scoped>\n",
       "    .dataframe tbody tr th:only-of-type {\n",
       "        vertical-align: middle;\n",
       "    }\n",
       "\n",
       "    .dataframe tbody tr th {\n",
       "        vertical-align: top;\n",
       "    }\n",
       "\n",
       "    .dataframe thead th {\n",
       "        text-align: right;\n",
       "    }\n",
       "</style>\n",
       "<table border=\"1\" class=\"dataframe\">\n",
       "  <thead>\n",
       "    <tr style=\"text-align: right;\">\n",
       "      <th></th>\n",
       "      <th>id</th>\n",
       "      <th>cant_punct</th>\n",
       "      <th>cant_punct_multiple</th>\n",
       "      <th>cant_punctx3</th>\n",
       "      <th>cant...</th>\n",
       "      <th>cant_multiple_?</th>\n",
       "      <th>cant_multiple_!</th>\n",
       "    </tr>\n",
       "  </thead>\n",
       "  <tbody>\n",
       "    <tr>\n",
       "      <th>0</th>\n",
       "      <td>1</td>\n",
       "      <td>1</td>\n",
       "      <td>0</td>\n",
       "      <td>0</td>\n",
       "      <td>0</td>\n",
       "      <td>0</td>\n",
       "      <td>0</td>\n",
       "    </tr>\n",
       "    <tr>\n",
       "      <th>1</th>\n",
       "      <td>4</td>\n",
       "      <td>1</td>\n",
       "      <td>0</td>\n",
       "      <td>0</td>\n",
       "      <td>0</td>\n",
       "      <td>0</td>\n",
       "      <td>0</td>\n",
       "    </tr>\n",
       "    <tr>\n",
       "      <th>2</th>\n",
       "      <td>5</td>\n",
       "      <td>3</td>\n",
       "      <td>0</td>\n",
       "      <td>0</td>\n",
       "      <td>0</td>\n",
       "      <td>0</td>\n",
       "      <td>0</td>\n",
       "    </tr>\n",
       "    <tr>\n",
       "      <th>3</th>\n",
       "      <td>6</td>\n",
       "      <td>2</td>\n",
       "      <td>0</td>\n",
       "      <td>0</td>\n",
       "      <td>0</td>\n",
       "      <td>0</td>\n",
       "      <td>0</td>\n",
       "    </tr>\n",
       "    <tr>\n",
       "      <th>4</th>\n",
       "      <td>7</td>\n",
       "      <td>2</td>\n",
       "      <td>0</td>\n",
       "      <td>0</td>\n",
       "      <td>0</td>\n",
       "      <td>0</td>\n",
       "      <td>0</td>\n",
       "    </tr>\n",
       "  </tbody>\n",
       "</table>\n",
       "</div>"
      ],
      "text/plain": [
       "   id  cant_punct  cant_punct_multiple  cant_punctx3  cant...  \\\n",
       "0   1           1                    0             0        0   \n",
       "1   4           1                    0             0        0   \n",
       "2   5           3                    0             0        0   \n",
       "3   6           2                    0             0        0   \n",
       "4   7           2                    0             0        0   \n",
       "\n",
       "   cant_multiple_?  cant_multiple_!  \n",
       "0                0                0  \n",
       "1                0                0  \n",
       "2                0                0  \n",
       "3                0                0  \n",
       "4                0                0  "
      ]
     },
     "metadata": {},
     "output_type": "display_data"
    },
    {
     "data": {
      "text/plain": [
       "(6390, 7)"
      ]
     },
     "metadata": {},
     "output_type": "display_data"
    }
   ],
   "source": [
    "# Muestro contenido del csv puntuacion_cant.csv\n",
    "\n",
    "puntuacion_cant_csv = pd.read_csv(DIR_NEW + 'puntuacion_cant.csv', low_memory=False)\n",
    "display(puntuacion_cant_csv.head())\n",
    "display(puntuacion_cant_csv.shape)"
   ]
  },
  {
   "cell_type": "code",
   "execution_count": 26,
   "metadata": {},
   "outputs": [
    {
     "data": {
      "text/html": [
       "<div>\n",
       "<style scoped>\n",
       "    .dataframe tbody tr th:only-of-type {\n",
       "        vertical-align: middle;\n",
       "    }\n",
       "\n",
       "    .dataframe tbody tr th {\n",
       "        vertical-align: top;\n",
       "    }\n",
       "\n",
       "    .dataframe thead th {\n",
       "        text-align: right;\n",
       "    }\n",
       "</style>\n",
       "<table border=\"1\" class=\"dataframe\">\n",
       "  <thead>\n",
       "    <tr style=\"text-align: right;\">\n",
       "      <th></th>\n",
       "      <th>id</th>\n",
       "      <th>punct</th>\n",
       "      <th>punct_multiple</th>\n",
       "      <th>punctx3</th>\n",
       "    </tr>\n",
       "  </thead>\n",
       "  <tbody>\n",
       "    <tr>\n",
       "      <th>0</th>\n",
       "      <td>1</td>\n",
       "      <td>#</td>\n",
       "      <td>NaN</td>\n",
       "      <td>NaN</td>\n",
       "    </tr>\n",
       "    <tr>\n",
       "      <th>1</th>\n",
       "      <td>4</td>\n",
       "      <td>.</td>\n",
       "      <td>NaN</td>\n",
       "      <td>NaN</td>\n",
       "    </tr>\n",
       "    <tr>\n",
       "      <th>2</th>\n",
       "      <td>5</td>\n",
       "      <td>''.</td>\n",
       "      <td>NaN</td>\n",
       "      <td>NaN</td>\n",
       "    </tr>\n",
       "    <tr>\n",
       "      <th>3</th>\n",
       "      <td>6</td>\n",
       "      <td>#,</td>\n",
       "      <td>NaN</td>\n",
       "      <td>NaN</td>\n",
       "    </tr>\n",
       "    <tr>\n",
       "      <th>4</th>\n",
       "      <td>7</td>\n",
       "      <td>##</td>\n",
       "      <td>NaN</td>\n",
       "      <td>NaN</td>\n",
       "    </tr>\n",
       "  </tbody>\n",
       "</table>\n",
       "</div>"
      ],
      "text/plain": [
       "   id punct punct_multiple punctx3\n",
       "0   1     #            NaN     NaN\n",
       "1   4     .            NaN     NaN\n",
       "2   5   ''.            NaN     NaN\n",
       "3   6    #,            NaN     NaN\n",
       "4   7    ##            NaN     NaN"
      ]
     },
     "metadata": {},
     "output_type": "display_data"
    },
    {
     "data": {
      "text/plain": [
       "(6390, 4)"
      ]
     },
     "metadata": {},
     "output_type": "display_data"
    }
   ],
   "source": [
    "# Muestro contenido del csv puntuacion_cat.csv\n",
    "\n",
    "puntuacion_cat_csv = pd.read_csv(DIR_NEW + 'puntuacion_cat.csv', low_memory=False)\n",
    "display(puntuacion_cat_csv.head())\n",
    "display(puntuacion_cat_csv.shape)"
   ]
  }
 ],
 "metadata": {
  "kernelspec": {
   "display_name": "Python 3",
   "language": "python",
   "name": "python3"
  },
  "language_info": {
   "codemirror_mode": {
    "name": "ipython",
    "version": 3
   },
   "file_extension": ".py",
   "mimetype": "text/x-python",
   "name": "python",
   "nbconvert_exporter": "python",
   "pygments_lexer": "ipython3",
   "version": "3.6.10"
  }
 },
 "nbformat": 4,
 "nbformat_minor": 4
}
